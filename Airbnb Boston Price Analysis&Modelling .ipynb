{
 "cells": [
  {
   "cell_type": "code",
   "execution_count": 1,
   "metadata": {},
   "outputs": [],
   "source": [
    "import numpy as np\n",
    "import pandas as pd\n",
    "import matplotlib.pyplot as plt\n",
    "from sklearn.linear_model import LinearRegression\n",
    "from sklearn.model_selection import train_test_split\n",
    "from sklearn.metrics import r2_score, mean_squared_error\n",
    "import seaborn as sns\n",
    "from collections import defaultdict\n",
    "from sklearn.feature_selection import SelectKBest\n",
    "from sklearn.feature_selection import f_regression\n",
    "import math\n",
    "%matplotlib inline\n",
    "\n",
    "df_lis = pd.read_csv('listingsBOSTON.csv')\n"
   ]
  },
  {
   "cell_type": "markdown",
   "metadata": {},
   "source": [
    "# Data Inspection \n"
   ]
  },
  {
   "cell_type": "code",
   "execution_count": 2,
   "metadata": {},
   "outputs": [
    {
     "data": {
      "text/html": [
       "<div>\n",
       "<style scoped>\n",
       "    .dataframe tbody tr th:only-of-type {\n",
       "        vertical-align: middle;\n",
       "    }\n",
       "\n",
       "    .dataframe tbody tr th {\n",
       "        vertical-align: top;\n",
       "    }\n",
       "\n",
       "    .dataframe thead th {\n",
       "        text-align: right;\n",
       "    }\n",
       "</style>\n",
       "<table border=\"1\" class=\"dataframe\">\n",
       "  <thead>\n",
       "    <tr style=\"text-align: right;\">\n",
       "      <th></th>\n",
       "      <th>id</th>\n",
       "      <th>listing_url</th>\n",
       "      <th>scrape_id</th>\n",
       "      <th>last_scraped</th>\n",
       "      <th>name</th>\n",
       "      <th>summary</th>\n",
       "      <th>space</th>\n",
       "      <th>description</th>\n",
       "      <th>experiences_offered</th>\n",
       "      <th>neighborhood_overview</th>\n",
       "      <th>...</th>\n",
       "      <th>review_scores_value</th>\n",
       "      <th>requires_license</th>\n",
       "      <th>license</th>\n",
       "      <th>jurisdiction_names</th>\n",
       "      <th>instant_bookable</th>\n",
       "      <th>cancellation_policy</th>\n",
       "      <th>require_guest_profile_picture</th>\n",
       "      <th>require_guest_phone_verification</th>\n",
       "      <th>calculated_host_listings_count</th>\n",
       "      <th>reviews_per_month</th>\n",
       "    </tr>\n",
       "  </thead>\n",
       "  <tbody>\n",
       "    <tr>\n",
       "      <th>0</th>\n",
       "      <td>12147973</td>\n",
       "      <td>https://www.airbnb.com/rooms/12147973</td>\n",
       "      <td>20160906204935</td>\n",
       "      <td>2016-09-07</td>\n",
       "      <td>Sunny Bungalow in the City</td>\n",
       "      <td>Cozy, sunny, family home.  Master bedroom high...</td>\n",
       "      <td>The house has an open and cozy feel at the sam...</td>\n",
       "      <td>Cozy, sunny, family home.  Master bedroom high...</td>\n",
       "      <td>none</td>\n",
       "      <td>Roslindale is quiet, convenient and friendly. ...</td>\n",
       "      <td>...</td>\n",
       "      <td>NaN</td>\n",
       "      <td>f</td>\n",
       "      <td>NaN</td>\n",
       "      <td>NaN</td>\n",
       "      <td>f</td>\n",
       "      <td>moderate</td>\n",
       "      <td>f</td>\n",
       "      <td>f</td>\n",
       "      <td>1</td>\n",
       "      <td>NaN</td>\n",
       "    </tr>\n",
       "    <tr>\n",
       "      <th>1</th>\n",
       "      <td>3075044</td>\n",
       "      <td>https://www.airbnb.com/rooms/3075044</td>\n",
       "      <td>20160906204935</td>\n",
       "      <td>2016-09-07</td>\n",
       "      <td>Charming room in pet friendly apt</td>\n",
       "      <td>Charming and quiet room in a second floor 1910...</td>\n",
       "      <td>Small but cozy and quite room with a full size...</td>\n",
       "      <td>Charming and quiet room in a second floor 1910...</td>\n",
       "      <td>none</td>\n",
       "      <td>The room is in Roslindale, a diverse and prima...</td>\n",
       "      <td>...</td>\n",
       "      <td>9.0</td>\n",
       "      <td>f</td>\n",
       "      <td>NaN</td>\n",
       "      <td>NaN</td>\n",
       "      <td>t</td>\n",
       "      <td>moderate</td>\n",
       "      <td>f</td>\n",
       "      <td>f</td>\n",
       "      <td>1</td>\n",
       "      <td>1.30</td>\n",
       "    </tr>\n",
       "    <tr>\n",
       "      <th>2</th>\n",
       "      <td>6976</td>\n",
       "      <td>https://www.airbnb.com/rooms/6976</td>\n",
       "      <td>20160906204935</td>\n",
       "      <td>2016-09-07</td>\n",
       "      <td>Mexican Folk Art Haven in Boston</td>\n",
       "      <td>Come stay with a friendly, middle-aged guy in ...</td>\n",
       "      <td>Come stay with a friendly, middle-aged guy in ...</td>\n",
       "      <td>Come stay with a friendly, middle-aged guy in ...</td>\n",
       "      <td>none</td>\n",
       "      <td>The LOCATION: Roslindale is a safe and diverse...</td>\n",
       "      <td>...</td>\n",
       "      <td>10.0</td>\n",
       "      <td>f</td>\n",
       "      <td>NaN</td>\n",
       "      <td>NaN</td>\n",
       "      <td>f</td>\n",
       "      <td>moderate</td>\n",
       "      <td>t</td>\n",
       "      <td>f</td>\n",
       "      <td>1</td>\n",
       "      <td>0.47</td>\n",
       "    </tr>\n",
       "    <tr>\n",
       "      <th>3</th>\n",
       "      <td>1436513</td>\n",
       "      <td>https://www.airbnb.com/rooms/1436513</td>\n",
       "      <td>20160906204935</td>\n",
       "      <td>2016-09-07</td>\n",
       "      <td>Spacious Sunny Bedroom Suite in Historic Home</td>\n",
       "      <td>Come experience the comforts of home away from...</td>\n",
       "      <td>Most places you find in Boston are small howev...</td>\n",
       "      <td>Come experience the comforts of home away from...</td>\n",
       "      <td>none</td>\n",
       "      <td>Roslindale is a lovely little neighborhood loc...</td>\n",
       "      <td>...</td>\n",
       "      <td>10.0</td>\n",
       "      <td>f</td>\n",
       "      <td>NaN</td>\n",
       "      <td>NaN</td>\n",
       "      <td>f</td>\n",
       "      <td>moderate</td>\n",
       "      <td>f</td>\n",
       "      <td>f</td>\n",
       "      <td>1</td>\n",
       "      <td>1.00</td>\n",
       "    </tr>\n",
       "    <tr>\n",
       "      <th>4</th>\n",
       "      <td>7651065</td>\n",
       "      <td>https://www.airbnb.com/rooms/7651065</td>\n",
       "      <td>20160906204935</td>\n",
       "      <td>2016-09-07</td>\n",
       "      <td>Come Home to Boston</td>\n",
       "      <td>My comfy, clean and relaxing home is one block...</td>\n",
       "      <td>Clean, attractive, private room, one block fro...</td>\n",
       "      <td>My comfy, clean and relaxing home is one block...</td>\n",
       "      <td>none</td>\n",
       "      <td>I love the proximity to downtown, the neighbor...</td>\n",
       "      <td>...</td>\n",
       "      <td>10.0</td>\n",
       "      <td>f</td>\n",
       "      <td>NaN</td>\n",
       "      <td>NaN</td>\n",
       "      <td>f</td>\n",
       "      <td>flexible</td>\n",
       "      <td>f</td>\n",
       "      <td>f</td>\n",
       "      <td>1</td>\n",
       "      <td>2.25</td>\n",
       "    </tr>\n",
       "  </tbody>\n",
       "</table>\n",
       "<p>5 rows × 95 columns</p>\n",
       "</div>"
      ],
      "text/plain": [
       "         id                            listing_url       scrape_id  \\\n",
       "0  12147973  https://www.airbnb.com/rooms/12147973  20160906204935   \n",
       "1   3075044   https://www.airbnb.com/rooms/3075044  20160906204935   \n",
       "2      6976      https://www.airbnb.com/rooms/6976  20160906204935   \n",
       "3   1436513   https://www.airbnb.com/rooms/1436513  20160906204935   \n",
       "4   7651065   https://www.airbnb.com/rooms/7651065  20160906204935   \n",
       "\n",
       "  last_scraped                                           name  \\\n",
       "0   2016-09-07                     Sunny Bungalow in the City   \n",
       "1   2016-09-07              Charming room in pet friendly apt   \n",
       "2   2016-09-07               Mexican Folk Art Haven in Boston   \n",
       "3   2016-09-07  Spacious Sunny Bedroom Suite in Historic Home   \n",
       "4   2016-09-07                            Come Home to Boston   \n",
       "\n",
       "                                             summary  \\\n",
       "0  Cozy, sunny, family home.  Master bedroom high...   \n",
       "1  Charming and quiet room in a second floor 1910...   \n",
       "2  Come stay with a friendly, middle-aged guy in ...   \n",
       "3  Come experience the comforts of home away from...   \n",
       "4  My comfy, clean and relaxing home is one block...   \n",
       "\n",
       "                                               space  \\\n",
       "0  The house has an open and cozy feel at the sam...   \n",
       "1  Small but cozy and quite room with a full size...   \n",
       "2  Come stay with a friendly, middle-aged guy in ...   \n",
       "3  Most places you find in Boston are small howev...   \n",
       "4  Clean, attractive, private room, one block fro...   \n",
       "\n",
       "                                         description experiences_offered  \\\n",
       "0  Cozy, sunny, family home.  Master bedroom high...                none   \n",
       "1  Charming and quiet room in a second floor 1910...                none   \n",
       "2  Come stay with a friendly, middle-aged guy in ...                none   \n",
       "3  Come experience the comforts of home away from...                none   \n",
       "4  My comfy, clean and relaxing home is one block...                none   \n",
       "\n",
       "                               neighborhood_overview  ... review_scores_value  \\\n",
       "0  Roslindale is quiet, convenient and friendly. ...  ...                 NaN   \n",
       "1  The room is in Roslindale, a diverse and prima...  ...                 9.0   \n",
       "2  The LOCATION: Roslindale is a safe and diverse...  ...                10.0   \n",
       "3  Roslindale is a lovely little neighborhood loc...  ...                10.0   \n",
       "4  I love the proximity to downtown, the neighbor...  ...                10.0   \n",
       "\n",
       "  requires_license license jurisdiction_names instant_bookable  \\\n",
       "0                f     NaN                NaN                f   \n",
       "1                f     NaN                NaN                t   \n",
       "2                f     NaN                NaN                f   \n",
       "3                f     NaN                NaN                f   \n",
       "4                f     NaN                NaN                f   \n",
       "\n",
       "  cancellation_policy require_guest_profile_picture  \\\n",
       "0            moderate                             f   \n",
       "1            moderate                             f   \n",
       "2            moderate                             t   \n",
       "3            moderate                             f   \n",
       "4            flexible                             f   \n",
       "\n",
       "  require_guest_phone_verification calculated_host_listings_count  \\\n",
       "0                                f                              1   \n",
       "1                                f                              1   \n",
       "2                                f                              1   \n",
       "3                                f                              1   \n",
       "4                                f                              1   \n",
       "\n",
       "   reviews_per_month  \n",
       "0                NaN  \n",
       "1               1.30  \n",
       "2               0.47  \n",
       "3               1.00  \n",
       "4               2.25  \n",
       "\n",
       "[5 rows x 95 columns]"
      ]
     },
     "execution_count": 2,
     "metadata": {},
     "output_type": "execute_result"
    }
   ],
   "source": [
    "#Below code gives information about the number of columns and number of rows.\n",
    "df_lis.head()\n"
   ]
  },
  {
   "cell_type": "code",
   "execution_count": 3,
   "metadata": {},
   "outputs": [
    {
     "data": {
      "text/plain": [
       "(3585, 95)"
      ]
     },
     "execution_count": 3,
     "metadata": {},
     "output_type": "execute_result"
    }
   ],
   "source": [
    "df_lis.shape"
   ]
  },
  {
   "cell_type": "code",
   "execution_count": 4,
   "metadata": {},
   "outputs": [
    {
     "data": {
      "text/plain": [
       "['id',\n",
       " 'listing_url',\n",
       " 'scrape_id',\n",
       " 'last_scraped',\n",
       " 'name',\n",
       " 'summary',\n",
       " 'space',\n",
       " 'description',\n",
       " 'experiences_offered',\n",
       " 'neighborhood_overview',\n",
       " 'notes',\n",
       " 'transit',\n",
       " 'access',\n",
       " 'interaction',\n",
       " 'house_rules',\n",
       " 'thumbnail_url',\n",
       " 'medium_url',\n",
       " 'picture_url',\n",
       " 'xl_picture_url',\n",
       " 'host_id',\n",
       " 'host_url',\n",
       " 'host_name',\n",
       " 'host_since',\n",
       " 'host_location',\n",
       " 'host_about',\n",
       " 'host_response_time',\n",
       " 'host_response_rate',\n",
       " 'host_acceptance_rate',\n",
       " 'host_is_superhost',\n",
       " 'host_thumbnail_url',\n",
       " 'host_picture_url',\n",
       " 'host_neighbourhood',\n",
       " 'host_listings_count',\n",
       " 'host_total_listings_count',\n",
       " 'host_verifications',\n",
       " 'host_has_profile_pic',\n",
       " 'host_identity_verified',\n",
       " 'street',\n",
       " 'neighbourhood',\n",
       " 'neighbourhood_cleansed',\n",
       " 'neighbourhood_group_cleansed',\n",
       " 'city',\n",
       " 'state',\n",
       " 'zipcode',\n",
       " 'market',\n",
       " 'smart_location',\n",
       " 'country_code',\n",
       " 'country',\n",
       " 'latitude',\n",
       " 'longitude',\n",
       " 'is_location_exact',\n",
       " 'property_type',\n",
       " 'room_type',\n",
       " 'accommodates',\n",
       " 'bathrooms',\n",
       " 'bedrooms',\n",
       " 'beds',\n",
       " 'bed_type',\n",
       " 'amenities',\n",
       " 'square_feet',\n",
       " 'price',\n",
       " 'weekly_price',\n",
       " 'monthly_price',\n",
       " 'security_deposit',\n",
       " 'cleaning_fee',\n",
       " 'guests_included',\n",
       " 'extra_people',\n",
       " 'minimum_nights',\n",
       " 'maximum_nights',\n",
       " 'calendar_updated',\n",
       " 'has_availability',\n",
       " 'availability_30',\n",
       " 'availability_60',\n",
       " 'availability_90',\n",
       " 'availability_365',\n",
       " 'calendar_last_scraped',\n",
       " 'number_of_reviews',\n",
       " 'first_review',\n",
       " 'last_review',\n",
       " 'review_scores_rating',\n",
       " 'review_scores_accuracy',\n",
       " 'review_scores_cleanliness',\n",
       " 'review_scores_checkin',\n",
       " 'review_scores_communication',\n",
       " 'review_scores_location',\n",
       " 'review_scores_value',\n",
       " 'requires_license',\n",
       " 'license',\n",
       " 'jurisdiction_names',\n",
       " 'instant_bookable',\n",
       " 'cancellation_policy',\n",
       " 'require_guest_profile_picture',\n",
       " 'require_guest_phone_verification',\n",
       " 'calculated_host_listings_count',\n",
       " 'reviews_per_month']"
      ]
     },
     "execution_count": 4,
     "metadata": {},
     "output_type": "execute_result"
    }
   ],
   "source": [
    "list(df_lis.columns)"
   ]
  },
  {
   "cell_type": "code",
   "execution_count": 5,
   "metadata": {},
   "outputs": [
    {
     "data": {
      "text/plain": [
       "object     62\n",
       "float64    18\n",
       "int64      15\n",
       "dtype: int64"
      ]
     },
     "execution_count": 5,
     "metadata": {},
     "output_type": "execute_result"
    }
   ],
   "source": [
    "#Below code shows the data types and the number of these data types in the dataset\n",
    "df_lis.dtypes.value_counts()"
   ]
  },
  {
   "cell_type": "code",
   "execution_count": 6,
   "metadata": {},
   "outputs": [
    {
     "data": {
      "text/plain": [
       "neighbourhood_group_cleansed    float64\n",
       "latitude                        float64\n",
       "longitude                       float64\n",
       "bathrooms                       float64\n",
       "bedrooms                        float64\n",
       "beds                            float64\n",
       "square_feet                     float64\n",
       "has_availability                float64\n",
       "review_scores_rating            float64\n",
       "review_scores_accuracy          float64\n",
       "review_scores_cleanliness       float64\n",
       "review_scores_checkin           float64\n",
       "review_scores_communication     float64\n",
       "review_scores_location          float64\n",
       "review_scores_value             float64\n",
       "license                         float64\n",
       "jurisdiction_names              float64\n",
       "reviews_per_month               float64\n",
       "dtype: object"
      ]
     },
     "execution_count": 6,
     "metadata": {},
     "output_type": "execute_result"
    }
   ],
   "source": [
    "df_lis.dtypes[df_lis.dtypes=='float64']"
   ]
  },
  {
   "cell_type": "code",
   "execution_count": 7,
   "metadata": {},
   "outputs": [
    {
     "data": {
      "text/plain": [
       "id                                int64\n",
       "scrape_id                         int64\n",
       "host_id                           int64\n",
       "host_listings_count               int64\n",
       "host_total_listings_count         int64\n",
       "accommodates                      int64\n",
       "guests_included                   int64\n",
       "minimum_nights                    int64\n",
       "maximum_nights                    int64\n",
       "availability_30                   int64\n",
       "availability_60                   int64\n",
       "availability_90                   int64\n",
       "availability_365                  int64\n",
       "number_of_reviews                 int64\n",
       "calculated_host_listings_count    int64\n",
       "dtype: object"
      ]
     },
     "execution_count": 7,
     "metadata": {},
     "output_type": "execute_result"
    }
   ],
   "source": [
    "#Below code showa the name of the columns which are int64 data type\n",
    "df_lis.dtypes[df_lis.dtypes=='int64']"
   ]
  },
  {
   "cell_type": "code",
   "execution_count": 8,
   "metadata": {},
   "outputs": [
    {
     "data": {
      "text/plain": [
       "listing_url                         object\n",
       "last_scraped                        object\n",
       "name                                object\n",
       "summary                             object\n",
       "space                               object\n",
       "description                         object\n",
       "experiences_offered                 object\n",
       "neighborhood_overview               object\n",
       "notes                               object\n",
       "transit                             object\n",
       "access                              object\n",
       "interaction                         object\n",
       "house_rules                         object\n",
       "thumbnail_url                       object\n",
       "medium_url                          object\n",
       "picture_url                         object\n",
       "xl_picture_url                      object\n",
       "host_url                            object\n",
       "host_name                           object\n",
       "host_since                          object\n",
       "host_location                       object\n",
       "host_about                          object\n",
       "host_response_time                  object\n",
       "host_response_rate                  object\n",
       "host_acceptance_rate                object\n",
       "host_is_superhost                   object\n",
       "host_thumbnail_url                  object\n",
       "host_picture_url                    object\n",
       "host_neighbourhood                  object\n",
       "host_verifications                  object\n",
       "host_has_profile_pic                object\n",
       "host_identity_verified              object\n",
       "street                              object\n",
       "neighbourhood                       object\n",
       "neighbourhood_cleansed              object\n",
       "city                                object\n",
       "state                               object\n",
       "zipcode                             object\n",
       "market                              object\n",
       "smart_location                      object\n",
       "country_code                        object\n",
       "country                             object\n",
       "is_location_exact                   object\n",
       "property_type                       object\n",
       "room_type                           object\n",
       "bed_type                            object\n",
       "amenities                           object\n",
       "price                               object\n",
       "weekly_price                        object\n",
       "monthly_price                       object\n",
       "security_deposit                    object\n",
       "cleaning_fee                        object\n",
       "extra_people                        object\n",
       "calendar_updated                    object\n",
       "calendar_last_scraped               object\n",
       "first_review                        object\n",
       "last_review                         object\n",
       "requires_license                    object\n",
       "instant_bookable                    object\n",
       "cancellation_policy                 object\n",
       "require_guest_profile_picture       object\n",
       "require_guest_phone_verification    object\n",
       "dtype: object"
      ]
     },
     "execution_count": 8,
     "metadata": {},
     "output_type": "execute_result"
    }
   ],
   "source": [
    "##Below code shows the name of the columns which are object data type\n",
    "pd.set_option('display.max_rows', 92)\n",
    "df_lis.dtypes[df_lis.dtypes=='object']"
   ]
  },
  {
   "cell_type": "code",
   "execution_count": 9,
   "metadata": {},
   "outputs": [
    {
     "data": {
      "text/plain": [
       "neighbourhood_group_cleansed    3585\n",
       "jurisdiction_names              3585\n",
       "license                         3585\n",
       "has_availability                3585\n",
       "square_feet                     3529\n",
       "                                ... \n",
       "state                              0\n",
       "neighbourhood_cleansed             0\n",
       "street                             0\n",
       "host_identity_verified             0\n",
       "id                                 0\n",
       "Length: 95, dtype: int64"
      ]
     },
     "execution_count": 9,
     "metadata": {},
     "output_type": "execute_result"
    }
   ],
   "source": [
    "#Below code shows the number of NaN in each column in descending order\n",
    "df_lis.isnull().sum().sort_values(ascending=False)"
   ]
  },
  {
   "cell_type": "code",
   "execution_count": 10,
   "metadata": {},
   "outputs": [
    {
     "data": {
      "text/plain": [
       "id             3585\n",
       "listing_url    3585\n",
       "picture_url    3585\n",
       "latitude       3585\n",
       "longitude      3585\n",
       "dtype: int64"
      ]
     },
     "execution_count": 10,
     "metadata": {},
     "output_type": "execute_result"
    }
   ],
   "source": [
    "#Column names that do not have any NaN values and all values are unique values\n",
    "df_lis.nunique()[df_lis.nunique()==len(df_lis)]"
   ]
  },
  {
   "cell_type": "code",
   "execution_count": 11,
   "metadata": {},
   "outputs": [
    {
     "data": {
      "text/plain": [
       "name                                3504\n",
       "description                         3423\n",
       "summary                             3113\n",
       "amenities                           3092\n",
       "thumbnail_url                       2986\n",
       "medium_url                          2986\n",
       "xl_picture_url                      2986\n",
       "space                               2268\n",
       "host_id                             2181\n",
       "host_url                            2181\n",
       "host_thumbnail_url                  2174\n",
       "host_picture_url                    2174\n",
       "house_rules                         1928\n",
       "transit                             1859\n",
       "access                              1762\n",
       "neighborhood_overview               1728\n",
       "interaction                         1617\n",
       "host_name                           1334\n",
       "host_since                          1281\n",
       "notes                               1269\n",
       "host_about                          1240\n",
       "street                              1239\n",
       "first_review                         975\n",
       "reviews_per_month                    644\n",
       "last_review                          404\n",
       "availability_365                     348\n",
       "price                                324\n",
       "monthly_price                        288\n",
       "weekly_price                         243\n",
       "number_of_reviews                    178\n",
       "host_location                        176\n",
       "availability_90                       91\n",
       "maximum_nights                        85\n",
       "host_verifications                    83\n",
       "cleaning_fee                          79\n",
       "host_acceptance_rate                  72\n",
       "availability_60                       61\n",
       "security_deposit                      54\n",
       "host_neighbourhood                    53\n",
       "host_response_rate                    52\n",
       "extra_people                          51\n",
       "review_scores_rating                  48\n",
       "zipcode                               43\n",
       "smart_location                        39\n",
       "calendar_updated                      38\n",
       "city                                  38\n",
       "square_feet                           37\n",
       "host_listings_count                   35\n",
       "host_total_listings_count             35\n",
       "availability_30                       31\n",
       "neighbourhood                         30\n",
       "minimum_nights                        29\n",
       "calculated_host_listings_count        25\n",
       "neighbourhood_cleansed                25\n",
       "accommodates                          14\n",
       "guests_included                       13\n",
       "property_type                         13\n",
       "bathrooms                             12\n",
       "beds                                  11\n",
       "review_scores_value                    9\n",
       "review_scores_location                 9\n",
       "review_scores_cleanliness              9\n",
       "review_scores_checkin                  8\n",
       "review_scores_accuracy                 8\n",
       "review_scores_communication            7\n",
       "bedrooms                               6\n",
       "bed_type                               5\n",
       "host_response_time                     4\n",
       "cancellation_policy                    4\n",
       "market                                 4\n",
       "room_type                              3\n",
       "host_is_superhost                      2\n",
       "host_has_profile_pic                   2\n",
       "host_identity_verified                 2\n",
       "is_location_exact                      2\n",
       "instant_bookable                       2\n",
       "require_guest_profile_picture          2\n",
       "require_guest_phone_verification       2\n",
       "experiences_offered                    1\n",
       "last_scraped                           1\n",
       "country                                1\n",
       "state                                  1\n",
       "country_code                           1\n",
       "calendar_last_scraped                  1\n",
       "requires_license                       1\n",
       "scrape_id                              1\n",
       "neighbourhood_group_cleansed           0\n",
       "has_availability                       0\n",
       "license                                0\n",
       "jurisdiction_names                     0\n",
       "dtype: int64"
      ]
     },
     "execution_count": 11,
     "metadata": {},
     "output_type": "execute_result"
    }
   ],
   "source": [
    "#The below code shows the columns names that have some NaN values and number of unique values in that column\n",
    "df_lis.nunique()[df_lis.nunique() != len(df_lis)].sort_values(ascending=False)"
   ]
  },
  {
   "cell_type": "code",
   "execution_count": 12,
   "metadata": {},
   "outputs": [
    {
     "data": {
      "text/plain": [
       "Index(['summary', 'space', 'neighborhood_overview', 'notes', 'transit',\n",
       "       'access', 'interaction', 'house_rules', 'thumbnail_url', 'medium_url',\n",
       "       'xl_picture_url', 'host_location', 'host_about', 'host_response_time',\n",
       "       'host_response_rate', 'host_acceptance_rate', 'host_neighbourhood',\n",
       "       'neighbourhood', 'neighbourhood_group_cleansed', 'city', 'zipcode',\n",
       "       'market', 'property_type', 'bathrooms', 'bedrooms', 'beds',\n",
       "       'square_feet', 'weekly_price', 'monthly_price', 'security_deposit',\n",
       "       'cleaning_fee', 'has_availability', 'first_review', 'last_review',\n",
       "       'review_scores_rating', 'review_scores_accuracy',\n",
       "       'review_scores_cleanliness', 'review_scores_checkin',\n",
       "       'review_scores_communication', 'review_scores_location',\n",
       "       'review_scores_value', 'license', 'jurisdiction_names',\n",
       "       'reviews_per_month'],\n",
       "      dtype='object')"
      ]
     },
     "execution_count": 12,
     "metadata": {},
     "output_type": "execute_result"
    }
   ],
   "source": [
    "#list of columns name with NaN values\n",
    "df_lis.columns[df_lis.isnull().any()]"
   ]
  },
  {
   "cell_type": "code",
   "execution_count": 13,
   "metadata": {},
   "outputs": [
    {
     "data": {
      "text/plain": [
       "neighbourhood_group_cleansed    3585\n",
       "jurisdiction_names              3585\n",
       "license                         3585\n",
       "has_availability                3585\n",
       "square_feet                     3529\n",
       "                                ... \n",
       "state                              0\n",
       "neighbourhood_cleansed             0\n",
       "street                             0\n",
       "host_identity_verified             0\n",
       "id                                 0\n",
       "Length: 95, dtype: int64"
      ]
     },
     "execution_count": 13,
     "metadata": {},
     "output_type": "execute_result"
    }
   ],
   "source": [
    "#number of NaN in each column in descending order\n",
    "df_lis.isnull().sum().sort_values(ascending=False)"
   ]
  },
  {
   "cell_type": "code",
   "execution_count": 14,
   "metadata": {},
   "outputs": [
    {
     "data": {
      "text/plain": [
       "id                                    0\n",
       "listing_url                           0\n",
       "scrape_id                             0\n",
       "last_scraped                          0\n",
       "name                                  0\n",
       "                                   ... \n",
       "cancellation_policy                   0\n",
       "require_guest_profile_picture         0\n",
       "require_guest_phone_verification      0\n",
       "calculated_host_listings_count        0\n",
       "reviews_per_month                   756\n",
       "Length: 95, dtype: int64"
      ]
     },
     "execution_count": 14,
     "metadata": {},
     "output_type": "execute_result"
    }
   ],
   "source": [
    "#which colums have no NaN - this provides a set of column names that have no NaN\n",
    "np.sum(df_lis.isnull())"
   ]
  },
  {
   "cell_type": "code",
   "execution_count": 15,
   "metadata": {},
   "outputs": [
    {
     "name": "stdout",
     "output_type": "stream",
     "text": [
      "{'experiences_offered', 'latitude', 'guests_included', 'extra_people', 'room_type', 'listing_url', 'id', 'last_scraped', 'host_total_listings_count', 'name', 'description', 'neighbourhood_cleansed', 'is_location_exact', 'availability_60', 'require_guest_profile_picture', 'host_identity_verified', 'instant_bookable', 'street', 'host_verifications', 'availability_30', 'host_has_profile_pic', 'host_is_superhost', 'host_thumbnail_url', 'calculated_host_listings_count', 'longitude', 'host_name', 'host_picture_url', 'host_url', 'picture_url', 'price', 'accommodates', 'smart_location', 'maximum_nights', 'host_listings_count', 'calendar_last_scraped', 'amenities', 'country', 'bed_type', 'calendar_updated', 'host_since', 'number_of_reviews', 'host_id', 'require_guest_phone_verification', 'cancellation_policy', 'scrape_id', 'state', 'availability_90', 'country_code', 'minimum_nights', 'requires_license', 'availability_365'}\n"
     ]
    }
   ],
   "source": [
    "#set of columns that have NO MISSING values\n",
    "no_nulls = set(df_lis.columns[np.sum(df_lis.isnull()) == 0])\n",
    "print(no_nulls)"
   ]
  },
  {
   "cell_type": "code",
   "execution_count": 16,
   "metadata": {},
   "outputs": [
    {
     "data": {
      "text/plain": [
       "id                                   True\n",
       "listing_url                          True\n",
       "scrape_id                            True\n",
       "last_scraped                         True\n",
       "name                                 True\n",
       "                                    ...  \n",
       "cancellation_policy                  True\n",
       "require_guest_profile_picture        True\n",
       "require_guest_phone_verification     True\n",
       "calculated_host_listings_count       True\n",
       "reviews_per_month                   False\n",
       "Length: 95, dtype: bool"
      ]
     },
     "execution_count": 16,
     "metadata": {},
     "output_type": "execute_result"
    }
   ],
   "source": [
    "#what columns have NaN? True  = have missing values\n",
    "np.sum(df_lis.isnull()) == 0"
   ]
  },
  {
   "cell_type": "code",
   "execution_count": 17,
   "metadata": {},
   "outputs": [
    {
     "data": {
      "text/plain": [
       "id                                  False\n",
       "listing_url                         False\n",
       "scrape_id                           False\n",
       "last_scraped                        False\n",
       "name                                False\n",
       "                                    ...  \n",
       "cancellation_policy                 False\n",
       "require_guest_profile_picture       False\n",
       "require_guest_phone_verification    False\n",
       "calculated_host_listings_count      False\n",
       "reviews_per_month                   False\n",
       "Length: 95, dtype: bool"
      ]
     },
     "execution_count": 17,
     "metadata": {},
     "output_type": "execute_result"
    }
   ],
   "source": [
    "#Code below shows set of columns with more than 75% of the values missing\n",
    "#Label True on columns where missing values are more than 75%\n",
    "np.sum(df_lis.isnull())/df_lis.shape[0] > .75"
   ]
  },
  {
   "cell_type": "code",
   "execution_count": 18,
   "metadata": {},
   "outputs": [
    {
     "data": {
      "text/plain": [
       "Index(['neighbourhood_group_cleansed', 'square_feet', 'weekly_price',\n",
       "       'monthly_price', 'has_availability', 'license', 'jurisdiction_names'],\n",
       "      dtype='object')"
      ]
     },
     "execution_count": 18,
     "metadata": {},
     "output_type": "execute_result"
    }
   ],
   "source": [
    "#2.Code below makes a list of columns with more than 75% of missing values \n",
    "df_lis.columns[np.sum(df_lis.isnull())/df_lis.shape[0]>.75]"
   ]
  },
  {
   "cell_type": "markdown",
   "metadata": {},
   "source": [
    "# Question 1: What are the most common property type and room type in Boston?"
   ]
  },
  {
   "cell_type": "code",
   "execution_count": 19,
   "metadata": {},
   "outputs": [
    {
     "data": {
      "text/plain": [
       "Apartment          2612\n",
       "House               562\n",
       "Condominium         231\n",
       "Townhouse            54\n",
       "Bed & Breakfast      41\n",
       "Loft                 39\n",
       "Other                17\n",
       "Boat                 12\n",
       "Villa                 6\n",
       "Entire Floor          4\n",
       "Dorm                  2\n",
       "Guesthouse            1\n",
       "Camper/RV             1\n",
       "Name: property_type, dtype: int64"
      ]
     },
     "execution_count": 19,
     "metadata": {},
     "output_type": "execute_result"
    }
   ],
   "source": [
    "#Below code shows the property types and counts how many listings are under each type\n",
    "df_lis['property_type'].value_counts().sort_values(ascending=False)"
   ]
  },
  {
   "cell_type": "code",
   "execution_count": 20,
   "metadata": {
    "scrolled": true
   },
   "outputs": [
    {
     "data": {
      "text/plain": [
       "Entire home/apt    2127\n",
       "Private room       1378\n",
       "Shared room          80\n",
       "Name: room_type, dtype: int64"
      ]
     },
     "execution_count": 20,
     "metadata": {},
     "output_type": "execute_result"
    }
   ],
   "source": [
    "#Below code shows the room types and counts how many listings are under each type\n",
    "df_lis['room_type'].value_counts().sort_values(ascending=False)"
   ]
  },
  {
   "cell_type": "markdown",
   "metadata": {},
   "source": [
    "# Question 1.1: Popularity of Property and Room Type \n",
    "\n",
    "Here we want to see the impact of property_type and room_type on future bookings.  Availability in the next 30 days will be an indicator of property and room popularity.\n"
   ]
  },
  {
   "cell_type": "code",
   "execution_count": 21,
   "metadata": {},
   "outputs": [
    {
     "data": {
      "text/plain": [
       "0"
      ]
     },
     "execution_count": 21,
     "metadata": {},
     "output_type": "execute_result"
    }
   ],
   "source": [
    "#We first check NaN in the availability_30 \n",
    "df_lis['availability_30'].isnull().sum()"
   ]
  },
  {
   "cell_type": "code",
   "execution_count": 22,
   "metadata": {},
   "outputs": [
    {
     "data": {
      "text/plain": [
       "0    1.000000\n",
       "1    0.133333\n",
       "2    0.366667\n",
       "3    0.800000\n",
       "4    0.566667\n",
       "Name: booking_percentage_30, dtype: float64"
      ]
     },
     "execution_count": 22,
     "metadata": {},
     "output_type": "execute_result"
    }
   ],
   "source": [
    "#We create a new column from availability_30, which will tell us what is the percentage of days booked  \n",
    "# out of the next 30 days for each property\n",
    "df_lis['booking_percentage_30'] = 1 - (df_lis['availability_30']/30)\n",
    "df_lis['booking_percentage_30'].head()"
   ]
  },
  {
   "cell_type": "markdown",
   "metadata": {},
   "source": [
    "Above, we found the percantage of days booked out of the next 30 days for each listing. We will use 'booking_percentage_30' as a new variable of popularity. \n",
    "\n",
    "Now, we will use our new 'booking_percentage_30' to investige how room type and property type attract bookings. \n",
    "\n",
    "First, we will investigate room_type."
   ]
  },
  {
   "cell_type": "code",
   "execution_count": 23,
   "metadata": {},
   "outputs": [
    {
     "data": {
      "text/plain": [
       "room_type\n",
       "Private room       0.739332\n",
       "Entire home/apt    0.699091\n",
       "Shared room        0.569583\n",
       "Name: booking_percentage_30, dtype: float64"
      ]
     },
     "execution_count": 23,
     "metadata": {},
     "output_type": "execute_result"
    }
   ],
   "source": [
    "#Below code shows information about booking percentages of different room types for next 30 days\n",
    "df_lis.groupby(['room_type'])['booking_percentage_30'].mean().sort_values(ascending=False)"
   ]
  },
  {
   "cell_type": "code",
   "execution_count": 24,
   "metadata": {},
   "outputs": [
    {
     "data": {
      "image/png": "[encoded data removed]",
      "text/plain": [
       "<Figure size 432x288 with 1 Axes>"
      ]
     },
     "metadata": {
      "needs_background": "light"
     },
     "output_type": "display_data"
    }
   ],
   "source": [
    "#Below code plots a bar chart to visualize booking ratios of different room types for next 30 days\n",
    "(df_lis.groupby(['room_type'])['booking_percentage_30'].mean().sort_values(ascending=False)).plot(kind='bar', legend=None)\n",
    "plt.title('Booking Percentage for Next 30 Days divided by Type of Room');\n",
    "plt.show()"
   ]
  },
  {
   "cell_type": "code",
   "execution_count": 25,
   "metadata": {},
   "outputs": [
    {
     "data": {
      "image/png": "[encoded data removed]",
      "text/plain": [
       "<Figure size 432x288 with 1 Axes>"
      ]
     },
     "metadata": {
      "needs_background": "light"
     },
     "output_type": "display_data"
    }
   ],
   "source": [
    "#Below code plots a bar chart to visualize booking ratios of different room types for next 30 days\n",
    "(df_lis.groupby(['property_type'])['booking_percentage_30'].mean().sort_values(ascending=False)).plot(kind='bar', legend=None)\n",
    "plt.title('Booking Percentage for Next 30 Days divided by Property Type');\n",
    "plt.show()"
   ]
  },
  {
   "cell_type": "markdown",
   "metadata": {},
   "source": [
    "As seen above, some property types have verw few listings as opposed to Apartment, House, Condominium. A type property such as \"Villa\" that has only 6 listings might have easily a higher booking percentage as opposed to \"Apartment\", having 2612 listings. Therefore, we conclude that Boats, with 12 listings, are less popular than Villa, with only 6 listings. Apartments, with 2612 listings, are almost as much popular as B&B, with 41 listings. \n"
   ]
  },
  {
   "cell_type": "markdown",
   "metadata": {},
   "source": [
    "# Question 2: What are the most common ameneties that are available in the Airbnb Boston dataset? "
   ]
  },
  {
   "cell_type": "markdown",
   "metadata": {},
   "source": [
    "Besides the information provived by the columns, the column 'amenities'provides further detailed information about the properties, such as a kitchen, wifi, washer/dryer etc. \n",
    "\n",
    "We would like to know what are the most popular amenities across the listings, and later select some of them to predict the price of listings. \n"
   ]
  },
  {
   "cell_type": "code",
   "execution_count": 26,
   "metadata": {},
   "outputs": [],
   "source": [
    "#We first create an empty list to fill with amenities available.\n",
    "list_of_amenities = []\n",
    "\n",
    "#We create a for loop to append all amenities values from the dataset into the list.\n",
    "for i in range(len(df_lis)):\n",
    "    list_of_amenities.append(df_lis['amenities'][i])\n",
    "        "
   ]
  },
  {
   "cell_type": "code",
   "execution_count": 27,
   "metadata": {},
   "outputs": [],
   "source": [
    "#Each listing in the dataset has a unique set of amenities. The set function will make the amenities unique \n",
    "# and convert such set into a list. \n",
    "list_of_amenities = list((s.strip('\\'\\{\\}') for s in list_of_amenities))\n",
    "list_of_amenities_string = \",\".join(list_of_amenities)\n",
    "list_of_amenities = list(set(list_of_amenities_string.split(\",\")))"
   ]
  },
  {
   "cell_type": "code",
   "execution_count": 28,
   "metadata": {},
   "outputs": [],
   "source": [
    "#Now list the list of amenties is an empty string, so we remove it \n",
    "#from the list\n",
    "without_empty_list_of_amenities = []\n",
    "for string in list_of_amenities:\n",
    "    if (string != \"\"):\n",
    "        without_empty_list_of_amenities.append(string)\n",
    "list_of_amenities = without_empty_list_of_amenities"
   ]
  },
  {
   "cell_type": "code",
   "execution_count": 29,
   "metadata": {},
   "outputs": [
    {
     "name": "stdout",
     "output_type": "stream",
     "text": [
      "['\"Cable TV\"', '\"Washer / Dryer\"', '\"Fire Extinguisher\"', '\"24-Hour Check-in\"', '\"Buzzer/Wireless Intercom\"', 'Breakfast', '\"Safety Card\"', '\"Air Conditioning\"', 'Cat(s)', '\"Laptop Friendly Workspace\"', 'Pool', 'Kitchen', '\"Elevator in Building\"', '\"Wireless Internet\"', 'Heating', '\"Indoor Fireplace\"', '\"First Aid Kit\"', '\"translation missing: en.hosting_amenity_49\"', '\"Hot Tub\"', '\"Wheelchair Accessible\"', '\"Smoking Allowed\"', 'Iron', '\"Hair Dryer\"', '\"translation missing: en.hosting_amenity_50\"', '\"Lock on Bedroom Door\"', 'Dryer', '\"Free Parking on Premises\"', '\"Smoke Detector\"', '\"Suitable for Events\"', 'Gym', '\"Other pet(s)\"', 'Dog(s)', '\"Family/Kid Friendly\"', 'Internet', '\"Pets live on this property\"', '\"Paid Parking Off Premises\"', '\"Free Parking on Street\"', 'Doorman', 'Hangers', 'TV', 'Essentials', '\"Carbon Monoxide Detector\"', '\"Pets Allowed\"', 'Shampoo', 'Washer']\n"
     ]
    }
   ],
   "source": [
    "print(list_of_amenities)"
   ]
  },
  {
   "cell_type": "markdown",
   "metadata": {},
   "source": [
    "The code in the below cell is taken from the HowToBreakIntoTheField.py (Udacity lecture note). This function counts the number of listings that contains each given amenity in the 'list_of_amenities'"
   ]
  },
  {
   "cell_type": "code",
   "execution_count": 30,
   "metadata": {},
   "outputs": [],
   "source": [
    "def total_count(df, col1, col2, look_for):\n",
    "    '''\n",
    "    INPUT:\n",
    "    df - the pandas dataframe you want to search\n",
    "    col1 - the column name you want to look through\n",
    "    col2 - the column you want to count values from\n",
    "    look_for - a list of strings you want to search for in each row of df[col]\n",
    "\n",
    "    OUTPUT:\n",
    "    new_df - a dataframe of each look_for with the count of how often it shows up\n",
    "    '''\n",
    "    new_df = defaultdict(int)\n",
    "    #loop through list of amenities\n",
    "    for val in look_for:\n",
    "        #loop through rows\n",
    "        for idx in range(df.shape[0]):\n",
    "            #if the amenity is in the row add 1\n",
    "            if val in df[col1][idx]:\n",
    "                new_df[val] += int(df[col2][idx])\n",
    "    new_df = pd.DataFrame(pd.Series(new_df)).reset_index()\n",
    "    new_df.columns = [col1, col2]\n",
    "    new_df.sort_values('count', ascending=False, inplace=True)\n",
    "    return new_df\n"
   ]
  },
  {
   "cell_type": "code",
   "execution_count": 31,
   "metadata": {},
   "outputs": [
    {
     "data": {
      "image/png": "[encoded data removed]",
      "text/plain": [
       "<Figure size 432x288 with 1 Axes>"
      ]
     },
     "metadata": {
      "needs_background": "light"
     },
     "output_type": "display_data"
    }
   ],
   "source": [
    "#I create a dataframe named study, which has lists of amenities as one column and the count of these amenities lists\n",
    "#in our main (df_lis)\n",
    "study = df_lis['amenities'].value_counts().reset_index()\n",
    "study.rename(columns={'index': 'amenities', 'amenities': 'count'}, inplace=True)\n",
    "\n",
    "#Here with the total_count function, I count the number of listings that contains each amenity in the amenities list.\n",
    "study_df = total_count(study, 'amenities', 'count', list_of_amenities)\n",
    "study_df.set_index('amenities', inplace=True)\n",
    "\n",
    "#Here I create a bar chart to show the percentage of each amenity from the most common to the least common.\n",
    "(study_df/len(df_lis))[:20].plot(kind='bar', legend=None);\n",
    "plt.title('Top 20 Most Common Amenities in The Dataset');\n",
    "plt.ylabel('How many percent of listings has the amenity')\n",
    "plt.show()\n"
   ]
  },
  {
   "cell_type": "markdown",
   "metadata": {},
   "source": [
    "# Question 2.1: How do amenities attract bookings?\n",
    "Here we want to see the impact of amenities on future bookings, based on the Availability in the next 30 days, which we will use as an indicator of property popularity.\n",
    "\n"
   ]
  },
  {
   "cell_type": "code",
   "execution_count": 32,
   "metadata": {},
   "outputs": [
    {
     "data": {
      "text/plain": [
       "0"
      ]
     },
     "execution_count": 32,
     "metadata": {},
     "output_type": "execute_result"
    }
   ],
   "source": [
    "#Check if amenities column has an missing values.\n",
    "df_lis['amenities'].isnull().sum()"
   ]
  },
  {
   "cell_type": "code",
   "execution_count": 33,
   "metadata": {},
   "outputs": [],
   "source": [
    "#Here I create new columns for each of the amenities and fill them all with zeros.\n",
    "for i in range(len(list_of_amenities)):\n",
    "    df_lis[list_of_amenities[i]] = 0"
   ]
  },
  {
   "cell_type": "code",
   "execution_count": 34,
   "metadata": {},
   "outputs": [],
   "source": [
    "#Fill the new amenities columns\n",
    "#First code checks if the listing has given amenity\n",
    "#If the listing has that amenity, fill it with 1 \n",
    "#If it does not have it, fill it with 0\n",
    "for i in range(len(list_of_amenities)):\n",
    "    for t in range(len(df_lis)):\n",
    "        if list_of_amenities[i] in df_lis['amenities'][t]:\n",
    "            df_lis.loc[t , list_of_amenities[i]] = 1\n",
    "        else:\n",
    "            df_lis.loc[t , list_of_amenities[i]] = 0\n",
    "        "
   ]
  },
  {
   "cell_type": "code",
   "execution_count": 35,
   "metadata": {},
   "outputs": [],
   "source": [
    "#Create dataframe that will contain information about booking percentage of listings having the given amenity\n",
    "amenities_importance = pd.DataFrame(index=range(0,len(list_of_amenities)), columns = [\"Amenity_Name\", \"Booking Ratio for HAVING the Amenity\", \"Booking Ratio for NOT HAVING the Amenity\", \"Booking Difference\"])\n",
    "\n",
    "\n",
    "#In the below for loop:\n",
    "#write the name of the amenity, calculate the booking percentage of listings that contain the given amenitiy\n",
    "#calculate the booking ratio of listings that do not contain the amenitiy\n",
    "#calculate the difference between booking percentages for each given amenity. \n",
    "for i in range(len(list_of_amenities)):\n",
    "    amenities_importance['Amenity_Name'][i] = list_of_amenities[i]\n",
    "    amenities_importance['Booking Ratio for HAVING the Amenity'][i] = df_lis.groupby([list_of_amenities[i]])['booking_percentage_30'].mean()[1]\n",
    "    amenities_importance['Booking Ratio for NOT HAVING the Amenity'][i] = df_lis.groupby([list_of_amenities[i]])['booking_percentage_30'].mean()[0]\n",
    "    amenities_importance['Booking Difference'][i] = amenities_importance['Booking Ratio for HAVING the Amenity'][i] - amenities_importance['Booking Ratio for NOT HAVING the Amenity'][i]\n",
    "\n",
    "amenities_importance.set_index('Amenity_Name', inplace=True)"
   ]
  },
  {
   "cell_type": "code",
   "execution_count": 36,
   "metadata": {},
   "outputs": [
    {
     "data": {
      "text/html": [
       "<div>\n",
       "<style scoped>\n",
       "    .dataframe tbody tr th:only-of-type {\n",
       "        vertical-align: middle;\n",
       "    }\n",
       "\n",
       "    .dataframe tbody tr th {\n",
       "        vertical-align: top;\n",
       "    }\n",
       "\n",
       "    .dataframe thead th {\n",
       "        text-align: right;\n",
       "    }\n",
       "</style>\n",
       "<table border=\"1\" class=\"dataframe\">\n",
       "  <thead>\n",
       "    <tr style=\"text-align: right;\">\n",
       "      <th></th>\n",
       "      <th>Booking Ratio for HAVING the Amenity</th>\n",
       "      <th>Booking Ratio for NOT HAVING the Amenity</th>\n",
       "      <th>Booking Difference</th>\n",
       "    </tr>\n",
       "    <tr>\n",
       "      <th>Amenity_Name</th>\n",
       "      <th></th>\n",
       "      <th></th>\n",
       "      <th></th>\n",
       "    </tr>\n",
       "  </thead>\n",
       "  <tbody>\n",
       "    <tr>\n",
       "      <th>\"Smoke Detector\"</th>\n",
       "      <td>0.741028</td>\n",
       "      <td>0.584866</td>\n",
       "      <td>0.156162</td>\n",
       "    </tr>\n",
       "    <tr>\n",
       "      <th>\"translation missing: en.hosting_amenity_49\"</th>\n",
       "      <td>0.777402</td>\n",
       "      <td>0.702377</td>\n",
       "      <td>0.0750252</td>\n",
       "    </tr>\n",
       "    <tr>\n",
       "      <th>\"Buzzer/Wireless Intercom\"</th>\n",
       "      <td>0.762376</td>\n",
       "      <td>0.696176</td>\n",
       "      <td>0.0661996</td>\n",
       "    </tr>\n",
       "    <tr>\n",
       "      <th>\"Fire Extinguisher\"</th>\n",
       "      <td>0.748335</td>\n",
       "      <td>0.682709</td>\n",
       "      <td>0.0656262</td>\n",
       "    </tr>\n",
       "    <tr>\n",
       "      <th>\"Carbon Monoxide Detector\"</th>\n",
       "      <td>0.731791</td>\n",
       "      <td>0.668679</td>\n",
       "      <td>0.063112</td>\n",
       "    </tr>\n",
       "    <tr>\n",
       "      <th>\"Wireless Internet\"</th>\n",
       "      <td>0.714362</td>\n",
       "      <td>0.655488</td>\n",
       "      <td>0.0588745</td>\n",
       "    </tr>\n",
       "    <tr>\n",
       "      <th>\"Hot Tub\"</th>\n",
       "      <td>0.763872</td>\n",
       "      <td>0.709118</td>\n",
       "      <td>0.0547539</td>\n",
       "    </tr>\n",
       "    <tr>\n",
       "      <th>\"Other pet(s)\"</th>\n",
       "      <td>0.760417</td>\n",
       "      <td>0.71145</td>\n",
       "      <td>0.0489662</td>\n",
       "    </tr>\n",
       "    <tr>\n",
       "      <th>\"Lock on Bedroom Door\"</th>\n",
       "      <td>0.752602</td>\n",
       "      <td>0.705432</td>\n",
       "      <td>0.0471696</td>\n",
       "    </tr>\n",
       "    <tr>\n",
       "      <th>\"Suitable for Events\"</th>\n",
       "      <td>0.747101</td>\n",
       "      <td>0.71025</td>\n",
       "      <td>0.036851</td>\n",
       "    </tr>\n",
       "  </tbody>\n",
       "</table>\n",
       "</div>"
      ],
      "text/plain": [
       "                                             Booking Ratio for HAVING the Amenity  \\\n",
       "Amenity_Name                                                                        \n",
       "\"Smoke Detector\"                                                         0.741028   \n",
       "\"translation missing: en.hosting_amenity_49\"                             0.777402   \n",
       "\"Buzzer/Wireless Intercom\"                                               0.762376   \n",
       "\"Fire Extinguisher\"                                                      0.748335   \n",
       "\"Carbon Monoxide Detector\"                                               0.731791   \n",
       "\"Wireless Internet\"                                                      0.714362   \n",
       "\"Hot Tub\"                                                                0.763872   \n",
       "\"Other pet(s)\"                                                           0.760417   \n",
       "\"Lock on Bedroom Door\"                                                   0.752602   \n",
       "\"Suitable for Events\"                                                    0.747101   \n",
       "\n",
       "                                             Booking Ratio for NOT HAVING the Amenity  \\\n",
       "Amenity_Name                                                                            \n",
       "\"Smoke Detector\"                                                             0.584866   \n",
       "\"translation missing: en.hosting_amenity_49\"                                 0.702377   \n",
       "\"Buzzer/Wireless Intercom\"                                                   0.696176   \n",
       "\"Fire Extinguisher\"                                                          0.682709   \n",
       "\"Carbon Monoxide Detector\"                                                   0.668679   \n",
       "\"Wireless Internet\"                                                          0.655488   \n",
       "\"Hot Tub\"                                                                    0.709118   \n",
       "\"Other pet(s)\"                                                                0.71145   \n",
       "\"Lock on Bedroom Door\"                                                       0.705432   \n",
       "\"Suitable for Events\"                                                         0.71025   \n",
       "\n",
       "                                             Booking Difference  \n",
       "Amenity_Name                                                     \n",
       "\"Smoke Detector\"                                       0.156162  \n",
       "\"translation missing: en.hosting_amenity_49\"          0.0750252  \n",
       "\"Buzzer/Wireless Intercom\"                            0.0661996  \n",
       "\"Fire Extinguisher\"                                   0.0656262  \n",
       "\"Carbon Monoxide Detector\"                             0.063112  \n",
       "\"Wireless Internet\"                                   0.0588745  \n",
       "\"Hot Tub\"                                             0.0547539  \n",
       "\"Other pet(s)\"                                        0.0489662  \n",
       "\"Lock on Bedroom Door\"                                0.0471696  \n",
       "\"Suitable for Events\"                                  0.036851  "
      ]
     },
     "execution_count": 36,
     "metadata": {},
     "output_type": "execute_result"
    }
   ],
   "source": [
    "#Top 10 booking differences to see which amenities attract more bookings\n",
    "amenities_importance.sort_values(by='Booking Difference', ascending = False)[:10]"
   ]
  },
  {
   "cell_type": "code",
   "execution_count": 37,
   "metadata": {
    "scrolled": true
   },
   "outputs": [
    {
     "data": {
      "image/png": "[encoded data removed]",
      "text/plain": [
       "<Figure size 432x288 with 1 Axes>"
      ]
     },
     "metadata": {
      "needs_background": "light"
     },
     "output_type": "display_data"
    },
    {
     "data": {
      "text/plain": [
       "[]"
      ]
     },
     "execution_count": 37,
     "metadata": {},
     "output_type": "execute_result"
    }
   ],
   "source": [
    "#Here I draw a bar chart to visualize which amenities are most prefered by guests.\n",
    "amenities_importance['Booking Difference'].sort_values(ascending = False)[:10].plot(kind='bar', legend=None)\n",
    "plt.title('Most Popular Amenities');\n",
    "plt.ylabel('Booking Ratio Difference for Next 30 Days')\n",
    "plt.show()\n",
    "list()"
   ]
  },
  {
   "cell_type": "markdown",
   "metadata": {},
   "source": [
    "What we found is that a smoke detector increases the booking percentage for next 30 days almost by 15%.\n",
    "Also having a Buzzer/Wireless Intercom, \"Fire Extinguisher, \"Wireless Internet\" and Lock on Bedroom Door are good \n",
    "ideas for increasing the popularity for a listing."
   ]
  },
  {
   "cell_type": "markdown",
   "metadata": {},
   "source": [
    " # Question 3: Can we build a model to predict the price of a listing based on the most influencial features of the dataset?\n",
    "There are many features in the dataset that have effect on the price of the listing. \n",
    "In the third question I would like to train a model to estimate the price of a listing. \n",
    "\n",
    "So the question I would like to answer is: Can we build a model that predicts property price based on the most  common and booking-attracting features of the listings?\n",
    "\n",
    "\n",
    "  "
   ]
  },
  {
   "cell_type": "code",
   "execution_count": 38,
   "metadata": {},
   "outputs": [
    {
     "name": "stdout",
     "output_type": "stream",
     "text": [
      "0\n",
      "2693\n",
      "2697\n",
      "2243\n",
      "1107\n"
     ]
    }
   ],
   "source": [
    "#First I would like to know about the number of missing values in the features that are related to price.\n",
    "print(df_lis['price'].isnull().sum())\n",
    "print(df_lis['weekly_price'].isnull().sum())\n",
    "print(df_lis['monthly_price'].isnull().sum())\n",
    "print(df_lis['security_deposit'].isnull().sum())\n",
    "print(df_lis['cleaning_fee'].isnull().sum())"
   ]
  },
  {
   "cell_type": "markdown",
   "metadata": {},
   "source": [
    "#There are five different prices in the dataset, which are listed below.\n",
    "\n",
    "price\n",
    "weekly_price\n",
    "monthly_price\n",
    "security_deposit\n",
    "cleaning_fee\n",
    "\n",
    "In the code cell above, I find a number of missing values in each column. As can be seen, the majority of the listings do not have weekly or monthly price. So we will model using the \"price\" variable because of larger sample size."
   ]
  },
  {
   "cell_type": "code",
   "execution_count": 39,
   "metadata": {},
   "outputs": [
    {
     "data": {
      "text/plain": [
       "['\"Cable TV\"',\n",
       " '\"Washer / Dryer\"',\n",
       " '\"Fire Extinguisher\"',\n",
       " '\"24-Hour Check-in\"',\n",
       " '\"Buzzer/Wireless Intercom\"',\n",
       " 'Breakfast',\n",
       " '\"Safety Card\"',\n",
       " '\"Air Conditioning\"',\n",
       " 'Cat(s)',\n",
       " '\"Laptop Friendly Workspace\"',\n",
       " 'Pool',\n",
       " 'Kitchen',\n",
       " '\"Elevator in Building\"',\n",
       " '\"Wireless Internet\"',\n",
       " 'Heating',\n",
       " '\"Indoor Fireplace\"',\n",
       " '\"First Aid Kit\"',\n",
       " '\"translation missing: en.hosting_amenity_49\"',\n",
       " '\"Hot Tub\"',\n",
       " '\"Wheelchair Accessible\"',\n",
       " '\"Smoking Allowed\"',\n",
       " 'Iron',\n",
       " '\"Hair Dryer\"',\n",
       " '\"translation missing: en.hosting_amenity_50\"',\n",
       " '\"Lock on Bedroom Door\"',\n",
       " 'Dryer',\n",
       " '\"Free Parking on Premises\"',\n",
       " '\"Smoke Detector\"',\n",
       " '\"Suitable for Events\"',\n",
       " 'Gym',\n",
       " '\"Other pet(s)\"',\n",
       " 'Dog(s)',\n",
       " '\"Family/Kid Friendly\"',\n",
       " 'Internet',\n",
       " '\"Pets live on this property\"',\n",
       " '\"Paid Parking Off Premises\"',\n",
       " '\"Free Parking on Street\"',\n",
       " 'Doorman',\n",
       " 'Hangers',\n",
       " 'TV',\n",
       " 'Essentials',\n",
       " '\"Carbon Monoxide Detector\"',\n",
       " '\"Pets Allowed\"',\n",
       " 'Shampoo',\n",
       " 'Washer']"
      ]
     },
     "execution_count": 39,
     "metadata": {},
     "output_type": "execute_result"
    }
   ],
   "source": [
    "list(list_of_amenities)"
   ]
  },
  {
   "cell_type": "code",
   "execution_count": 40,
   "metadata": {},
   "outputs": [
    {
     "data": {
      "text/plain": [
       "0"
      ]
     },
     "execution_count": 40,
     "metadata": {},
     "output_type": "execute_result"
    }
   ],
   "source": [
    "#Check if amenities column has an missing values.\n",
    "df_lis['amenities'].isnull().sum()"
   ]
  },
  {
   "cell_type": "code",
   "execution_count": 41,
   "metadata": {},
   "outputs": [],
   "source": [
    "#Here I create new columns for each of the amenities and fill them all with zeros.\n",
    "for i in range(len(list_of_amenities)):\n",
    "    df_lis[list_of_amenities[i]] = 0"
   ]
  },
  {
   "cell_type": "code",
   "execution_count": 42,
   "metadata": {},
   "outputs": [],
   "source": [
    "#Here I fill the new amenities columns, by first checking if the listing has that amenity.\n",
    "#If the listing has that amenity I fill it with 1 and if it does not have it, I fill it with zero.\n",
    "for i in range(len(list_of_amenities)):\n",
    "    for t in range(len(df_lis)):\n",
    "        if list_of_amenities[i] in df_lis['amenities'][t]:\n",
    "            df_lis.loc[t , list_of_amenities[i]] = 1\n",
    "        else:\n",
    "            df_lis.loc[t , list_of_amenities[i]] = 0"
   ]
  },
  {
   "cell_type": "markdown",
   "metadata": {},
   "source": [
    "Below, I made a list of features of interest (FOI) that in my opinion are crucial for estimating the price of a listing. The FOIs are some of the columns form the original dataset along with some of the new columns with categorical values created from the amenities. \n",
    "\n",
    "I creted a sub-dataframe of listings dataframe. "
   ]
  },
  {
   "cell_type": "code",
   "execution_count": 43,
   "metadata": {},
   "outputs": [],
   "source": [
    "#Below, I made a list of important features in my opinion for estimating the price of a listing and created\n",
    "#a sub-dataframe of listings dataframe.\n",
    "\n",
    "#In order to answer the first question, I made columns for amenities categorical value, I will use all amenities columns\n",
    "#I created there.\n",
    "features_of_interest = [                  \n",
    "\n",
    "'Internet',\n",
    "'\"Wireless Internet\"',\n",
    "'Heating',\n",
    "'Kitchen',\n",
    "'Essentials',\n",
    "'Dryer',\n",
    "'\"Smoke Detector\"',\n",
    "'TV',\n",
    "'Washer',\n",
    "'\"Air Conditioning\"',\n",
    "'Shampoo',    \n",
    "'\"Carbon Monoxide Detector\"',\n",
    "'Hangers',\n",
    "'\"Family/Kid Friendly\"',\n",
    "'\"Laptop Friendly Workspace\"',\n",
    "'Iron',\n",
    "'\"Hair Dryer\"',\n",
    "'\"Cable TV\"',\n",
    "'\"Fire Extinguisher\"',\n",
    "'\"24-Hour Check-in\"',\n",
    "'longitude',\n",
    "'host_has_profile_pic',\n",
    "'accommodates',\n",
    "'host_is_superhost',\n",
    "'room_type',\n",
    "'bed_type',\n",
    "'host_identity_verified',\n",
    "'latitude',\n",
    "'instant_bookable',\n",
    "'\"Hot Tub\"',\n",
    "'extra_people',\n",
    "'square_feet',\n",
    "'number_of_reviews',\n",
    "'cleaning_fee', \n",
    "'host_acceptance_rate',\n",
    "'security_deposit',\n",
    "'host_neighbourhood',\n",
    "'review_scores_rating',\n",
    "'zipcode',\n",
    "'calculated_host_listings_count',\n",
    "'accommodates',\n",
    "'guests_included',\n",
    "'property_type',\n",
    "'bathrooms',\n",
    "'beds',\n",
    "'review_scores_value',\n",
    "'review_scores_location',           \n",
    "'review_scores_cleanliness',             \n",
    "'review_scores_checkin',                  \n",
    "'review_scores_accuracy',                \n",
    "'review_scores_communication',           \n",
    "'bedrooms',                            \n",
    "'bed_type',                              \n",
    "'host_response_time',                   \n",
    "'cancellation_policy',\n",
    "'room_type',                             \n",
    "'host_is_superhost',                      \n",
    "'host_has_profile_pic',                \n",
    "'host_identity_verified',\n",
    "'instant_bookable',\n",
    "'host_response_rate',\n",
    "'price'\n",
    "]\n",
    "\n",
    "\n",
    "df_lis_ml = df_lis[features_of_interest]"
   ]
  },
  {
   "cell_type": "code",
   "execution_count": 44,
   "metadata": {},
   "outputs": [
    {
     "name": "stdout",
     "output_type": "stream",
     "text": [
      "{'experiences_offered', '\"Fire Extinguisher\"', '\"24-Hour Check-in\"', '\"Buzzer/Wireless Intercom\"', '\"Air Conditioning\"', 'Cat(s)', 'Pool', 'listing_url', 'id', 'availability_60', '\"translation missing: en.hosting_amenity_49\"', 'host_identity_verified', 'instant_bookable', 'street', 'host_has_profile_pic', 'Iron', 'calculated_host_listings_count', '\"Suitable for Events\"', 'Gym', 'Dog(s)', 'Internet', 'calendar_last_scraped', 'bed_type', '\"Pets live on this property\"', 'number_of_reviews', 'Essentials', '\"Cable TV\"', 'Washer', 'latitude', 'guests_included', '\"Safety Card\"', '\"Laptop Friendly Workspace\"', 'Kitchen', '\"Wireless Internet\"', 'description', 'booking_percentage_30', 'availability_30', '\"Smoking Allowed\"', 'host_is_superhost', '\"Smoke Detector\"', 'host_url', 'host_since', 'require_guest_phone_verification', 'Doorman', 'country_code', 'extra_people', 'room_type', '\"Elevator in Building\"', 'last_scraped', '\"Indoor Fireplace\"', '\"Wheelchair Accessible\"', 'host_verifications', 'Dryer', 'host_name', 'host_picture_url', 'price', 'accommodates', '\"Other pet(s)\"', '\"Family/Kid Friendly\"', 'host_listings_count', 'country', '\"Paid Parking Off Premises\"', '\"Free Parking on Street\"', 'availability_90', 'Hangers', 'minimum_nights', 'TV', '\"Carbon Monoxide Detector\"', '\"Washer / Dryer\"', 'Breakfast', 'host_total_listings_count', 'name', 'Heating', '\"First Aid Kit\"', 'neighbourhood_cleansed', 'is_location_exact', 'require_guest_profile_picture', '\"Hot Tub\"', '\"Hair Dryer\"', 'host_thumbnail_url', '\"translation missing: en.hosting_amenity_50\"', '\"Lock on Bedroom Door\"', 'longitude', '\"Free Parking on Premises\"', 'picture_url', 'smart_location', 'maximum_nights', 'amenities', 'calendar_updated', 'host_id', 'cancellation_policy', 'scrape_id', 'state', 'requires_license', '\"Pets Allowed\"', 'Shampoo', 'availability_365'}\n"
     ]
    }
   ],
   "source": [
    "# provide a set of columns that have NO MISSING values -> so they can predict better \n",
    "no_nulls = set(df_lis.columns[np.sum(df_lis.isnull()) == 0])\n",
    "print(no_nulls)"
   ]
  },
  {
   "cell_type": "code",
   "execution_count": 45,
   "metadata": {},
   "outputs": [
    {
     "data": {
      "text/plain": [
       "square_feet                    3529\n",
       "cleaning_fee                   1107\n",
       "host_acceptance_rate            471\n",
       "security_deposit               2243\n",
       "host_neighbourhood              339\n",
       "review_scores_rating            813\n",
       "zipcode                          38\n",
       "property_type                     3\n",
       "bathrooms                        14\n",
       "beds                              9\n",
       "review_scores_value             821\n",
       "review_scores_location          822\n",
       "review_scores_cleanliness       818\n",
       "review_scores_checkin           820\n",
       "review_scores_accuracy          823\n",
       "review_scores_communication     818\n",
       "bedrooms                         10\n",
       "host_response_time              471\n",
       "host_response_rate              471\n",
       "dtype: int64"
      ]
     },
     "execution_count": 45,
     "metadata": {},
     "output_type": "execute_result"
    }
   ],
   "source": [
    "#Now lets check the missing values in each columns and find the right way to imput them.\n",
    "df_lis_ml.isnull().sum()[df_lis_ml.isnull().sum()>0]"
   ]
  },
  {
   "cell_type": "code",
   "execution_count": 46,
   "metadata": {},
   "outputs": [
    {
     "data": {
      "text/plain": [
       "cleaning_fee                   1107\n",
       "host_acceptance_rate            471\n",
       "security_deposit               2243\n",
       "host_neighbourhood              339\n",
       "review_scores_rating            813\n",
       "zipcode                          38\n",
       "property_type                     3\n",
       "bathrooms                        14\n",
       "beds                              9\n",
       "review_scores_value             821\n",
       "review_scores_location          822\n",
       "review_scores_cleanliness       818\n",
       "review_scores_checkin           820\n",
       "review_scores_accuracy          823\n",
       "review_scores_communication     818\n",
       "bedrooms                         10\n",
       "host_response_time              471\n",
       "host_response_rate              471\n",
       "dtype: int64"
      ]
     },
     "execution_count": 46,
     "metadata": {},
     "output_type": "execute_result"
    }
   ],
   "source": [
    "#Since there is a missing values for each listing, I will drop the 'square_feet' column. \n",
    "#Columns like beds, bedrooms and bathrooms columns can be good indicators of property size.\n",
    "\n",
    "df_lis_ml = df_lis_ml.drop(columns='square_feet')\n",
    "df_lis_ml.isnull().sum()[df_lis_ml.isnull().sum()>0]"
   ]
  },
  {
   "cell_type": "code",
   "execution_count": 47,
   "metadata": {},
   "outputs": [
    {
     "data": {
      "text/plain": [
       "0        94.989082\n",
       "1       100.000000\n",
       "2       100.000000\n",
       "3       100.000000\n",
       "4       100.000000\n",
       "           ...    \n",
       "3580     96.000000\n",
       "3581     10.000000\n",
       "3582     78.000000\n",
       "3583    100.000000\n",
       "3584    100.000000\n",
       "Name: host_response_rate, Length: 3585, dtype: float64"
      ]
     },
     "execution_count": 47,
     "metadata": {},
     "output_type": "execute_result"
    }
   ],
   "source": [
    "#host response rate imput NaN with mean and convert it to float\n",
    "df_lis_ml['host_response_rate'] = df_lis_ml['host_response_rate'].str.replace('%', '')\n",
    "df_lis_ml['host_response_rate'] = df_lis_ml['host_response_rate'].astype(float)\n",
    "df_lis_ml['host_response_rate'].mean()\n",
    "df_lis_ml['host_response_rate'] = df_lis_ml['host_response_rate'].fillna((df_lis_ml['host_response_rate'].mean()))\n",
    "df_lis_ml.host_response_rate\n"
   ]
  },
  {
   "cell_type": "code",
   "execution_count": 48,
   "metadata": {},
   "outputs": [
    {
     "data": {
      "text/plain": [
       "0       1.5\n",
       "1       1.0\n",
       "2       1.0\n",
       "3       1.0\n",
       "4       1.5\n",
       "       ... \n",
       "3580    1.0\n",
       "3581    1.0\n",
       "3582    1.0\n",
       "3583    1.0\n",
       "3584    1.0\n",
       "Name: bathrooms, Length: 3585, dtype: float64"
      ]
     },
     "execution_count": 48,
     "metadata": {},
     "output_type": "execute_result"
    }
   ],
   "source": [
    "##bathrooms imput NaN with mean\n",
    "df_lis_ml['bathrooms'].mean()\n",
    "df_lis_ml['bathrooms'] = df_lis_ml['bathrooms'].fillna((df_lis_ml['bathrooms'].mean()))\n",
    "df_lis_ml.bathrooms"
   ]
  },
  {
   "cell_type": "code",
   "execution_count": 49,
   "metadata": {},
   "outputs": [
    {
     "data": {
      "text/plain": [
       "0       3.0\n",
       "1       1.0\n",
       "2       1.0\n",
       "3       2.0\n",
       "4       2.0\n",
       "       ... \n",
       "3580    1.0\n",
       "3581    1.0\n",
       "3582    1.0\n",
       "3583    1.0\n",
       "3584    1.0\n",
       "Name: beds, Length: 3585, dtype: float64"
      ]
     },
     "execution_count": 49,
     "metadata": {},
     "output_type": "execute_result"
    }
   ],
   "source": [
    "##beds imput NaN with mean\n",
    "df_lis_ml['beds'].mean()\n",
    "df_lis_ml['beds'] = df_lis_ml['beds'].fillna((df_lis_ml['beds'].mean()))\n",
    "df_lis_ml.beds"
   ]
  },
  {
   "cell_type": "code",
   "execution_count": 50,
   "metadata": {},
   "outputs": [
    {
     "data": {
      "text/plain": [
       "0       2.0\n",
       "1       1.0\n",
       "2       1.0\n",
       "3       1.0\n",
       "4       1.0\n",
       "       ... \n",
       "3580    1.0\n",
       "3581    1.0\n",
       "3582    1.0\n",
       "3583    1.0\n",
       "3584    1.0\n",
       "Name: bedrooms, Length: 3585, dtype: float64"
      ]
     },
     "execution_count": 50,
     "metadata": {},
     "output_type": "execute_result"
    }
   ],
   "source": [
    "##bedrooms imput NaN with mean\n",
    "df_lis_ml['bedrooms'].mean()\n",
    "df_lis_ml['bedrooms'] = df_lis_ml['bedrooms'].fillna((df_lis_ml['bedrooms'].mean()))\n",
    "df_lis_ml.bedrooms"
   ]
  },
  {
   "cell_type": "code",
   "execution_count": 51,
   "metadata": {},
   "outputs": [
    {
     "data": {
      "text/plain": [
       "0           House\n",
       "1       Apartment\n",
       "2       Apartment\n",
       "3           House\n",
       "4           House\n",
       "          ...    \n",
       "3580    Apartment\n",
       "3581    Apartment\n",
       "3582    Apartment\n",
       "3583    Apartment\n",
       "3584    Apartment\n",
       "Name: property_type, Length: 3585, dtype: object"
      ]
     },
     "execution_count": 51,
     "metadata": {},
     "output_type": "execute_result"
    }
   ],
   "source": [
    "#property type NaN fill with the mode \n",
    "df_lis_ml['property_type'].mode()\n",
    "df_lis_ml['property_type'] = df_lis_ml['property_type'].fillna((df_lis_ml['property_type'].mode()[0]))\n",
    "df_lis_ml.property_type"
   ]
  },
  {
   "cell_type": "code",
   "execution_count": 52,
   "metadata": {},
   "outputs": [],
   "source": [
    "# Because security deposit = NaN very likley means that it is not required\n",
    "#I will fill security_deposit NaN with 0 and convert them to float\n",
    "df_lis_ml['security_deposit'] = df_lis_ml['security_deposit'].str.replace('$', '')\n",
    "df_lis_ml['security_deposit'] = df_lis_ml['security_deposit'].str.replace(',', '')\n",
    "df_lis_ml['security_deposit'] = df_lis_ml['security_deposit'].astype(float)\n",
    "df_lis_ml['security_deposit'] = df_lis_ml['security_deposit'].fillna(0)"
   ]
  },
  {
   "cell_type": "code",
   "execution_count": 53,
   "metadata": {},
   "outputs": [
    {
     "data": {
      "text/plain": [
       "0       35.0\n",
       "1       10.0\n",
       "2        0.0\n",
       "3       50.0\n",
       "4       15.0\n",
       "        ... \n",
       "3580     0.0\n",
       "3581    15.0\n",
       "3582     0.0\n",
       "3583     0.0\n",
       "3584    25.0\n",
       "Name: cleaning_fee, Length: 3585, dtype: float64"
      ]
     },
     "execution_count": 53,
     "metadata": {},
     "output_type": "execute_result"
    }
   ],
   "source": [
    "#Because cleaning_fee = NaN very likley means that there is not extra charge for cleaning\n",
    "#I will fill cleaning_fee NaN with 0 and convert them to float\n",
    "df_lis_ml['cleaning_fee'] = df_lis_ml['cleaning_fee'].str.replace('$', '')\n",
    "df_lis_ml['cleaning_fee'] = df_lis_ml['cleaning_fee'].fillna(0)\n",
    "df_lis_ml['cleaning_fee'] = df_lis_ml['cleaning_fee'].astype(float)\n",
    "df_lis_ml.cleaning_fee"
   ]
  },
  {
   "cell_type": "code",
   "execution_count": 54,
   "metadata": {},
   "outputs": [
    {
     "data": {
      "text/plain": [
       "0        84.173089\n",
       "1       100.000000\n",
       "2        88.000000\n",
       "3        50.000000\n",
       "4       100.000000\n",
       "           ...    \n",
       "3580    100.000000\n",
       "3581     83.000000\n",
       "3582     50.000000\n",
       "3583     96.000000\n",
       "3584     95.000000\n",
       "Name: host_acceptance_rate, Length: 3585, dtype: float64"
      ]
     },
     "execution_count": 54,
     "metadata": {},
     "output_type": "execute_result"
    }
   ],
   "source": [
    "#Fill acceptance rate NaN with the mean and convert it to float\n",
    "df_lis_ml['host_acceptance_rate'] = df_lis_ml['host_acceptance_rate'].str.replace('%', '')\n",
    "df_lis_ml['host_acceptance_rate'] = df_lis_ml['host_acceptance_rate'].astype(float)\n",
    "df_lis_ml['host_acceptance_rate'].mean()\n",
    "df_lis_ml['host_acceptance_rate'] = df_lis_ml['host_acceptance_rate'].fillna((df_lis_ml['host_acceptance_rate'].mean()))\n",
    "df_lis_ml.host_acceptance_rate"
   ]
  },
  {
   "cell_type": "code",
   "execution_count": 55,
   "metadata": {},
   "outputs": [],
   "source": [
    "#acceptance rate NaN with the mode\n",
    "df_lis_ml['zipcode'].mode()\n",
    "df_lis_ml['zipcode'] = df_lis_ml['zipcode'].fillna((df_lis_ml['zipcode'].mode()[0]))"
   ]
  },
  {
   "cell_type": "code",
   "execution_count": 56,
   "metadata": {},
   "outputs": [],
   "source": [
    "#host_neighbourhood NaN with mode\n",
    "df_lis_ml['host_neighbourhood'].mode()\n",
    "df_lis_ml['host_neighbourhood'] = df_lis_ml['host_neighbourhood'].fillna((df_lis_ml['host_neighbourhood'].mode()[0]))"
   ]
  },
  {
   "cell_type": "code",
   "execution_count": 57,
   "metadata": {},
   "outputs": [
    {
     "data": {
      "text/plain": [
       "0           within an hour\n",
       "1           within an hour\n",
       "2       within a few hours\n",
       "3       within a few hours\n",
       "4           within an hour\n",
       "               ...        \n",
       "3580        within an hour\n",
       "3581    a few days or more\n",
       "3582          within a day\n",
       "3583        within an hour\n",
       "3584        within an hour\n",
       "Name: host_response_time, Length: 3585, dtype: object"
      ]
     },
     "execution_count": 57,
     "metadata": {},
     "output_type": "execute_result"
    }
   ],
   "source": [
    "#host_neighbourhood NaN with mode\n",
    "df_lis_ml['host_response_time'].mode()\n",
    "df_lis_ml['host_response_time'] = df_lis_ml['host_response_time'].fillna((df_lis_ml['host_response_time'].mode()[0]))\n",
    "df_lis_ml.host_response_time\n"
   ]
  },
  {
   "cell_type": "code",
   "execution_count": 58,
   "metadata": {},
   "outputs": [
    {
     "data": {
      "text/plain": [
       "review_scores_rating           813\n",
       "review_scores_value            821\n",
       "review_scores_location         822\n",
       "review_scores_cleanliness      818\n",
       "review_scores_checkin          820\n",
       "review_scores_accuracy         823\n",
       "review_scores_communication    818\n",
       "dtype: int64"
      ]
     },
     "execution_count": 58,
     "metadata": {},
     "output_type": "execute_result"
    }
   ],
   "source": [
    "#The features below have more than 1/3 of missing values, so filling them with means or modes might dilute \n",
    "#too much the power of the features\n",
    "df_lis_ml.isnull().sum()[df_lis_ml.isnull().sum()>0]"
   ]
  },
  {
   "cell_type": "code",
   "execution_count": 59,
   "metadata": {},
   "outputs": [],
   "source": [
    "features_of_interest = ['bathrooms', 'bedrooms', 'beds', 'latitude', 'longitude', 'square_feet', \n",
    "'reviews_per_month', 'accommodates', 'guests_included', '\"24-Hour Check-in\"', \n",
    "'\"Suitable for Events\"','\"Pets live on this property\"', 'Dog(s)', '\"Smoking Allowed\"',\n",
    "'\"Other pet(s)\"', 'Essentials', '\"Wireless Internet\"',\n",
    "       '\"Buzzer/Wireless Intercom\"', 'TV', 'Gym', 'Washer', 'Doorman', 'Dryer',\n",
    "       '\"Hot Tub\"', '\"Air Conditioning\"', '\"Pets Allowed\"', 'Pool',\n",
    "       '\"Hair Dryer\"', '\"Fire Extinguisher\"', 'Breakfast', '\"Washer / Dryer\"',\n",
    "       '\"Laptop Friendly Workspace\"', '\"Free Parking on Premises\"',\n",
    "       '\"Lock on Bedroom Door\"', 'Cat(s)', 'Hangers', '\"Family/Kid Friendly\"',\n",
    "       '\"Carbon Monoxide Detector\"', '\"Safety Card\"', 'Kitchen',\n",
    "       '\"Elevator in Building\"', 'Internet', 'Shampoo', '\"Smoke Detector\"',\n",
    "       '\"Wheelchair Accessible\"', 'Iron', '\"First Aid Kit\"',\n",
    "       '\"Indoor Fireplace\"', '\"Cable TV\"', 'Heating', 'host_is_superhost', 'neighbourhood_group_cleansed',\n",
    "        'property_type','room_type','bed_type','price','security_deposit',\n",
    "        'cleaning_fee', 'extra_people', 'instant_bookable', 'cancellation_policy']      \n",
    "\n",
    "df_lis_ml = df_lis[features_of_interest]"
   ]
  },
  {
   "cell_type": "code",
   "execution_count": 60,
   "metadata": {},
   "outputs": [
    {
     "data": {
      "text/plain": [
       "bathrooms                         14\n",
       "bedrooms                          10\n",
       "beds                               9\n",
       "square_feet                     3529\n",
       "reviews_per_month                756\n",
       "neighbourhood_group_cleansed    3585\n",
       "property_type                      3\n",
       "security_deposit                2243\n",
       "cleaning_fee                    1107\n",
       "dtype: int64"
      ]
     },
     "execution_count": 60,
     "metadata": {},
     "output_type": "execute_result"
    }
   ],
   "source": [
    "df_lis_ml.isnull().sum()[df_lis_ml.isnull().sum()>0]"
   ]
  },
  {
   "cell_type": "code",
   "execution_count": 61,
   "metadata": {},
   "outputs": [],
   "source": [
    "#Here I drop the 'square_feet' column since there are many missing values and\n",
    "#columns like beds, bedrooms and bathrooms columns that can replace the square_feet\n",
    "\n",
    "df_lis_ml = df_lis_ml.drop(columns='square_feet')\n",
    "df_lis_ml = df_lis_ml.drop(columns='neighbourhood_group_cleansed')"
   ]
  },
  {
   "cell_type": "code",
   "execution_count": 62,
   "metadata": {},
   "outputs": [
    {
     "data": {
      "text/plain": [
       "0       250.0\n",
       "1        65.0\n",
       "2        65.0\n",
       "3        75.0\n",
       "4        79.0\n",
       "        ...  \n",
       "3580     69.0\n",
       "3581    150.0\n",
       "3582    198.0\n",
       "3583     65.0\n",
       "3584     65.0\n",
       "Name: price, Length: 3585, dtype: float64"
      ]
     },
     "execution_count": 62,
     "metadata": {},
     "output_type": "execute_result"
    }
   ],
   "source": [
    "df_lis_ml['price'] = df_lis_ml['price'].str.replace('$', '')\n",
    "df_lis_ml['price'] = df_lis_ml['price'].str.replace(' ', '')\n",
    "df_lis_ml['price'] = df_lis_ml['price'].str.replace(',', '')\n",
    "df_lis_ml['price'] = df_lis_ml['price'].astype(float)\n",
    "df_lis_ml.price\n"
   ]
  },
  {
   "cell_type": "code",
   "execution_count": 63,
   "metadata": {},
   "outputs": [],
   "source": [
    "##bathrooms imput NaN with mean\n",
    "df_lis_ml['bathrooms'].mean()\n",
    "df_lis_ml['bathrooms'] = df_lis_ml['bathrooms'].fillna((df_lis_ml['bathrooms'].mean()))   "
   ]
  },
  {
   "cell_type": "code",
   "execution_count": 64,
   "metadata": {},
   "outputs": [],
   "source": [
    "##bedrooms imput NaN with mean\n",
    "df_lis_ml['bedrooms'].mean()\n",
    "df_lis_ml['bedrooms'] = df_lis_ml['bedrooms'].fillna((df_lis_ml['bedrooms'].mean())) "
   ]
  },
  {
   "cell_type": "code",
   "execution_count": 65,
   "metadata": {},
   "outputs": [],
   "source": [
    "##beds imput NaN with mean\n",
    "df_lis_ml['beds'].mean()\n",
    "df_lis_ml['beds'] = df_lis_ml['beds'].fillna((df_lis_ml['beds'].mean())) "
   ]
  },
  {
   "cell_type": "code",
   "execution_count": 66,
   "metadata": {},
   "outputs": [],
   "source": [
    "##reviews_per_month imput NaN with mean\n",
    "df_lis_ml['reviews_per_month'].mean()\n",
    "df_lis_ml['reviews_per_month'] = df_lis_ml['reviews_per_month'].fillna((df_lis_ml['reviews_per_month'].mean())) "
   ]
  },
  {
   "cell_type": "code",
   "execution_count": 67,
   "metadata": {},
   "outputs": [],
   "source": [
    "#property type rate NaN with the mode   \n",
    "df_lis_ml['property_type'].mode()\n",
    "df_lis_ml['property_type'] = df_lis_ml['property_type'].fillna((df_lis_ml['property_type'].mode()[0]))\n"
   ]
  },
  {
   "cell_type": "code",
   "execution_count": 68,
   "metadata": {},
   "outputs": [],
   "source": [
    "#Imput Cleaning fee NaN with 0 \n",
    "df_lis_ml['cleaning_fee'] = df_lis_ml['cleaning_fee'].str.replace('$', '')\n",
    "df_lis_ml['cleaning_fee'] = df_lis_ml['cleaning_fee'].fillna(0)\n",
    "df_lis_ml['cleaning_fee'] = df_lis_ml['cleaning_fee'].astype(float)"
   ]
  },
  {
   "cell_type": "code",
   "execution_count": 69,
   "metadata": {},
   "outputs": [],
   "source": [
    "# Imput security_deposit NaN with 0\n",
    "df_lis_ml['security_deposit'] = df_lis_ml['security_deposit'].str.replace('$', '')\n",
    "df_lis_ml['security_deposit'] = df_lis_ml['security_deposit'].str.replace(',', '')\n",
    "df_lis_ml['security_deposit'] = df_lis_ml['security_deposit'].fillna(0)\n",
    "df_lis_ml['security_deposit'] = df_lis_ml['security_deposit'].astype(float)"
   ]
  },
  {
   "cell_type": "code",
   "execution_count": 70,
   "metadata": {},
   "outputs": [],
   "source": [
    "#clean the extra people and turn it into float\n",
    "df_lis_ml['extra_people'] = df_lis_ml['extra_people'].str.replace('$', '')\n",
    "df_lis_ml['extra_people'] = df_lis_ml['extra_people'].str.replace(',', '')\n",
    "df_lis_ml['extra_people'] = df_lis_ml['extra_people'].astype(float)"
   ]
  },
  {
   "cell_type": "code",
   "execution_count": 71,
   "metadata": {},
   "outputs": [
    {
     "data": {
      "text/plain": [
       "bathrooms                       float64\n",
       "bedrooms                        float64\n",
       "beds                            float64\n",
       "latitude                        float64\n",
       "longitude                       float64\n",
       "reviews_per_month               float64\n",
       "accommodates                      int64\n",
       "guests_included                   int64\n",
       "\"24-Hour Check-in\"                int64\n",
       "\"Suitable for Events\"             int64\n",
       "\"Pets live on this property\"      int64\n",
       "Dog(s)                            int64\n",
       "\"Smoking Allowed\"                 int64\n",
       "\"Other pet(s)\"                    int64\n",
       "Essentials                        int64\n",
       "\"Wireless Internet\"               int64\n",
       "\"Buzzer/Wireless Intercom\"        int64\n",
       "TV                                int64\n",
       "Gym                               int64\n",
       "Washer                            int64\n",
       "Doorman                           int64\n",
       "Dryer                             int64\n",
       "\"Hot Tub\"                         int64\n",
       "\"Air Conditioning\"                int64\n",
       "\"Pets Allowed\"                    int64\n",
       "Pool                              int64\n",
       "\"Hair Dryer\"                      int64\n",
       "\"Fire Extinguisher\"               int64\n",
       "Breakfast                         int64\n",
       "\"Washer / Dryer\"                  int64\n",
       "\"Laptop Friendly Workspace\"       int64\n",
       "\"Free Parking on Premises\"        int64\n",
       "\"Lock on Bedroom Door\"            int64\n",
       "Cat(s)                            int64\n",
       "Hangers                           int64\n",
       "\"Family/Kid Friendly\"             int64\n",
       "\"Carbon Monoxide Detector\"        int64\n",
       "\"Safety Card\"                     int64\n",
       "Kitchen                           int64\n",
       "\"Elevator in Building\"            int64\n",
       "Internet                          int64\n",
       "Shampoo                           int64\n",
       "\"Smoke Detector\"                  int64\n",
       "\"Wheelchair Accessible\"           int64\n",
       "Iron                              int64\n",
       "\"First Aid Kit\"                   int64\n",
       "\"Indoor Fireplace\"                int64\n",
       "\"Cable TV\"                        int64\n",
       "Heating                           int64\n",
       "host_is_superhost                object\n",
       "property_type                    object\n",
       "room_type                        object\n",
       "bed_type                         object\n",
       "price                           float64\n",
       "security_deposit                float64\n",
       "cleaning_fee                    float64\n",
       "extra_people                    float64\n",
       "instant_bookable                 object\n",
       "cancellation_policy              object\n",
       "dtype: object"
      ]
     },
     "execution_count": 71,
     "metadata": {},
     "output_type": "execute_result"
    }
   ],
   "source": [
    "#now let's check the datatypes\n",
    "df_lis_ml.dtypes\n"
   ]
  },
  {
   "cell_type": "code",
   "execution_count": 72,
   "metadata": {},
   "outputs": [],
   "source": [
    "#creating a new dataframe which is a subset of categorical columns of out df_lis_ml dataframe\n",
    "cat_cols = df_lis_ml.select_dtypes(include=['object'])"
   ]
  },
  {
   "cell_type": "code",
   "execution_count": 73,
   "metadata": {},
   "outputs": [
    {
     "data": {
      "text/html": [
       "<div>\n",
       "<style scoped>\n",
       "    .dataframe tbody tr th:only-of-type {\n",
       "        vertical-align: middle;\n",
       "    }\n",
       "\n",
       "    .dataframe tbody tr th {\n",
       "        vertical-align: top;\n",
       "    }\n",
       "\n",
       "    .dataframe thead th {\n",
       "        text-align: right;\n",
       "    }\n",
       "</style>\n",
       "<table border=\"1\" class=\"dataframe\">\n",
       "  <thead>\n",
       "    <tr style=\"text-align: right;\">\n",
       "      <th></th>\n",
       "      <th>host_is_superhost</th>\n",
       "      <th>property_type</th>\n",
       "      <th>room_type</th>\n",
       "      <th>bed_type</th>\n",
       "      <th>instant_bookable</th>\n",
       "      <th>cancellation_policy</th>\n",
       "    </tr>\n",
       "  </thead>\n",
       "  <tbody>\n",
       "    <tr>\n",
       "      <th>0</th>\n",
       "      <td>f</td>\n",
       "      <td>House</td>\n",
       "      <td>Entire home/apt</td>\n",
       "      <td>Real Bed</td>\n",
       "      <td>f</td>\n",
       "      <td>moderate</td>\n",
       "    </tr>\n",
       "    <tr>\n",
       "      <th>1</th>\n",
       "      <td>f</td>\n",
       "      <td>Apartment</td>\n",
       "      <td>Private room</td>\n",
       "      <td>Real Bed</td>\n",
       "      <td>t</td>\n",
       "      <td>moderate</td>\n",
       "    </tr>\n",
       "    <tr>\n",
       "      <th>2</th>\n",
       "      <td>t</td>\n",
       "      <td>Apartment</td>\n",
       "      <td>Private room</td>\n",
       "      <td>Real Bed</td>\n",
       "      <td>f</td>\n",
       "      <td>moderate</td>\n",
       "    </tr>\n",
       "    <tr>\n",
       "      <th>3</th>\n",
       "      <td>f</td>\n",
       "      <td>House</td>\n",
       "      <td>Private room</td>\n",
       "      <td>Real Bed</td>\n",
       "      <td>f</td>\n",
       "      <td>moderate</td>\n",
       "    </tr>\n",
       "    <tr>\n",
       "      <th>4</th>\n",
       "      <td>t</td>\n",
       "      <td>House</td>\n",
       "      <td>Private room</td>\n",
       "      <td>Real Bed</td>\n",
       "      <td>f</td>\n",
       "      <td>flexible</td>\n",
       "    </tr>\n",
       "  </tbody>\n",
       "</table>\n",
       "</div>"
      ],
      "text/plain": [
       "  host_is_superhost property_type        room_type  bed_type instant_bookable  \\\n",
       "0                 f         House  Entire home/apt  Real Bed                f   \n",
       "1                 f     Apartment     Private room  Real Bed                t   \n",
       "2                 t     Apartment     Private room  Real Bed                f   \n",
       "3                 f         House     Private room  Real Bed                f   \n",
       "4                 t         House     Private room  Real Bed                f   \n",
       "\n",
       "  cancellation_policy  \n",
       "0            moderate  \n",
       "1            moderate  \n",
       "2            moderate  \n",
       "3            moderate  \n",
       "4            flexible  "
      ]
     },
     "execution_count": 73,
     "metadata": {},
     "output_type": "execute_result"
    }
   ],
   "source": [
    "cat_cols.head()\n"
   ]
  },
  {
   "cell_type": "code",
   "execution_count": 74,
   "metadata": {},
   "outputs": [],
   "source": [
    "# Making new columns from categorical variables in order to use these features in ML regression algoritm.\n",
    "for col in cat_cols:\n",
    "    try:\n",
    "        df_lis_ml = pd.concat([df_lis_ml.drop(col, axis=1), pd.get_dummies(df_lis_ml[col], prefix=col, prefix_sep='_', drop_first=True)], axis=1)\n",
    "    except:\n",
    "        continue"
   ]
  },
  {
   "cell_type": "code",
   "execution_count": 75,
   "metadata": {},
   "outputs": [],
   "source": [
    "#Creating the X (feautures) and y (the variable to be modelled) dataframes\n",
    "y = df_lis_ml['price']\n",
    "X = df_lis_ml.drop(columns='price')"
   ]
  },
  {
   "cell_type": "code",
   "execution_count": 76,
   "metadata": {},
   "outputs": [],
   "source": [
    "#Splitting the new dataframes into train and test dataframes\n",
    "X_train, X_test, y_train, y_test = train_test_split(X, y, test_size = 0.2, random_state=42)"
   ]
  },
  {
   "cell_type": "code",
   "execution_count": 77,
   "metadata": {},
   "outputs": [
    {
     "name": "stdout",
     "output_type": "stream",
     "text": [
      "0.22275075483313467\n"
     ]
    }
   ],
   "source": [
    "#Applying the linear regression, fitting the model, making predictions with the test set and scoring the success of the model\n",
    "lm_model = LinearRegression(normalize=True)\n",
    "lm_model.fit(X_train, y_train)\n",
    "y_test_preds = lm_model.predict(X_test)\n",
    "test_score = r2_score(y_test, y_test_preds)\n",
    "print(test_score)"
   ]
  },
  {
   "cell_type": "markdown",
   "metadata": {},
   "source": [
    "The R squared value of our model is 0.22.\n",
    "It means that a full 22% of the variation of property price is explained by our model. \n",
    "\n",
    "It is important to note that we strictly circled our model features to property type, amenities, location, and we did not take into account many other crucial features such as peak seasons, guests reviews and or host ratings, to name a few. However, our model was still able to account for a fifth of price variations."
   ]
  },
  {
   "cell_type": "code",
   "execution_count": 78,
   "metadata": {},
   "outputs": [],
   "source": [
    "#Below function is taken from one of the Udacity jupyter notebook examples. I used this code to see coefficients of my model. \n",
    "def coef_weights(coefficients, X_train):\n",
    "    '''\n",
    "    INPUT:\n",
    "    coefficients - the coefficients of the linear model \n",
    "    X_train - the training data, so the column names can be used\n",
    "    OUTPUT:\n",
    "    coefs_df - a dataframe holding the coefficient, estimate, and abs(estimate)\n",
    "    \n",
    "    Provides a dataframe that can be used to understand the most influential coefficients\n",
    "    in a linear model by providing the coefficient estimates along with the name of the \n",
    "    variable attached to the coefficient.\n",
    "    '''\n",
    "    coefs_df = pd.DataFrame()\n",
    "    coefs_df['est_int'] = X_train.columns\n",
    "    coefs_df['coefs'] = lm_model.coef_\n",
    "    coefs_df['abs_coefs'] = np.abs(lm_model.coef_)\n",
    "    coefs_df = coefs_df.sort_values('abs_coefs', ascending=False)\n",
    "    return coefs_df\n",
    "\n",
    "#Use the function\n",
    "coef_df = coef_weights(lm_model.coef_, X_train)"
   ]
  },
  {
   "cell_type": "code",
   "execution_count": 79,
   "metadata": {},
   "outputs": [
    {
     "data": {
      "text/html": [
       "<div>\n",
       "<style scoped>\n",
       "    .dataframe tbody tr th:only-of-type {\n",
       "        vertical-align: middle;\n",
       "    }\n",
       "\n",
       "    .dataframe tbody tr th {\n",
       "        vertical-align: top;\n",
       "    }\n",
       "\n",
       "    .dataframe thead th {\n",
       "        text-align: right;\n",
       "    }\n",
       "</style>\n",
       "<table border=\"1\" class=\"dataframe\">\n",
       "  <thead>\n",
       "    <tr style=\"text-align: right;\">\n",
       "      <th></th>\n",
       "      <th>est_int</th>\n",
       "      <th>coefs</th>\n",
       "      <th>abs_coefs</th>\n",
       "    </tr>\n",
       "  </thead>\n",
       "  <tbody>\n",
       "    <tr>\n",
       "      <th>3</th>\n",
       "      <td>latitude</td>\n",
       "      <td>511.139487</td>\n",
       "      <td>511.139487</td>\n",
       "    </tr>\n",
       "    <tr>\n",
       "      <th>4</th>\n",
       "      <td>longitude</td>\n",
       "      <td>248.313105</td>\n",
       "      <td>248.313105</td>\n",
       "    </tr>\n",
       "    <tr>\n",
       "      <th>29</th>\n",
       "      <td>\"Washer / Dryer\"</td>\n",
       "      <td>142.230298</td>\n",
       "      <td>142.230298</td>\n",
       "    </tr>\n",
       "    <tr>\n",
       "      <th>55</th>\n",
       "      <td>property_type_Camper/RV</td>\n",
       "      <td>-118.546244</td>\n",
       "      <td>118.546244</td>\n",
       "    </tr>\n",
       "    <tr>\n",
       "      <th>74</th>\n",
       "      <td>cancellation_policy_super_strict_30</td>\n",
       "      <td>94.283234</td>\n",
       "      <td>94.283234</td>\n",
       "    </tr>\n",
       "    <tr>\n",
       "      <th>65</th>\n",
       "      <td>room_type_Private room</td>\n",
       "      <td>-61.032954</td>\n",
       "      <td>61.032954</td>\n",
       "    </tr>\n",
       "    <tr>\n",
       "      <th>66</th>\n",
       "      <td>room_type_Shared room</td>\n",
       "      <td>-60.728356</td>\n",
       "      <td>60.728356</td>\n",
       "    </tr>\n",
       "    <tr>\n",
       "      <th>20</th>\n",
       "      <td>Doorman</td>\n",
       "      <td>52.814676</td>\n",
       "      <td>52.814676</td>\n",
       "    </tr>\n",
       "    <tr>\n",
       "      <th>13</th>\n",
       "      <td>\"Other pet(s)\"</td>\n",
       "      <td>-46.946403</td>\n",
       "      <td>46.946403</td>\n",
       "    </tr>\n",
       "    <tr>\n",
       "      <th>58</th>\n",
       "      <td>property_type_Entire Floor</td>\n",
       "      <td>-38.703028</td>\n",
       "      <td>38.703028</td>\n",
       "    </tr>\n",
       "    <tr>\n",
       "      <th>1</th>\n",
       "      <td>bedrooms</td>\n",
       "      <td>30.044010</td>\n",
       "      <td>30.044010</td>\n",
       "    </tr>\n",
       "    <tr>\n",
       "      <th>25</th>\n",
       "      <td>Pool</td>\n",
       "      <td>-28.663319</td>\n",
       "      <td>28.663319</td>\n",
       "    </tr>\n",
       "    <tr>\n",
       "      <th>11</th>\n",
       "      <td>Dog(s)</td>\n",
       "      <td>27.183455</td>\n",
       "      <td>27.183455</td>\n",
       "    </tr>\n",
       "    <tr>\n",
       "      <th>0</th>\n",
       "      <td>bathrooms</td>\n",
       "      <td>26.473625</td>\n",
       "      <td>26.473625</td>\n",
       "    </tr>\n",
       "    <tr>\n",
       "      <th>38</th>\n",
       "      <td>Kitchen</td>\n",
       "      <td>-26.278953</td>\n",
       "      <td>26.278953</td>\n",
       "    </tr>\n",
       "  </tbody>\n",
       "</table>\n",
       "</div>"
      ],
      "text/plain": [
       "                                est_int       coefs   abs_coefs\n",
       "3                              latitude  511.139487  511.139487\n",
       "4                             longitude  248.313105  248.313105\n",
       "29                     \"Washer / Dryer\"  142.230298  142.230298\n",
       "55              property_type_Camper/RV -118.546244  118.546244\n",
       "74  cancellation_policy_super_strict_30   94.283234   94.283234\n",
       "65               room_type_Private room  -61.032954   61.032954\n",
       "66                room_type_Shared room  -60.728356   60.728356\n",
       "20                              Doorman   52.814676   52.814676\n",
       "13                       \"Other pet(s)\"  -46.946403   46.946403\n",
       "58           property_type_Entire Floor  -38.703028   38.703028\n",
       "1                              bedrooms   30.044010   30.044010\n",
       "25                                 Pool  -28.663319   28.663319\n",
       "11                               Dog(s)   27.183455   27.183455\n",
       "0                             bathrooms   26.473625   26.473625\n",
       "38                              Kitchen  -26.278953   26.278953"
      ]
     },
     "execution_count": 79,
     "metadata": {},
     "output_type": "execute_result"
    }
   ],
   "source": [
    "coef_df.head(15)"
   ]
  },
  {
   "cell_type": "code",
   "execution_count": 80,
   "metadata": {},
   "outputs": [],
   "source": [
    "def find_optimal_number_of_selectors(X, y, k_samples, plot=True):\n",
    "    '''\n",
    "    INPUT:\n",
    "    X dataframe that contains the features.\n",
    "    y dataframe that contains the variable to be predicted.\n",
    "    k_samples is a list of k values that will be tested.\n",
    "    \n",
    "    OUTPUT:\n",
    "    A dictionary that contains values of tested k-values as keys and r-squared values for each key.\n",
    "    The k-value that has the highest r-squared.\n",
    "\n",
    "    '''   \n",
    "    result_r_squareds = []\n",
    "    results = {}\n",
    "    for kes in k_samples:\n",
    "        selector = SelectKBest(score_func=f_regression, k=kes)\n",
    "        selector.fit_transform(X, y)\n",
    "        selected_cols = selector.get_support(indices=True)\n",
    "        features_new_X = X.iloc[:,selected_cols]\n",
    "        \n",
    "        X_train, X_test, y_train, y_test = train_test_split(features_new_X, y, test_size = 0.2, random_state=42)\n",
    "        lm_model = LinearRegression(normalize=True)\n",
    "        lm_model.fit(X_train, y_train)\n",
    "        y_test_preds = lm_model.predict(X_test)\n",
    "        result_r_squareds.append(r2_score(y_test, y_test_preds))\n",
    "        results[str(kes)] = r2_score(y_test, y_test_preds)\n",
    "    \n",
    "    if plot:\n",
    "        plt.plot(k_samples, result_r_squareds, label=\"r-squared\", alpha=0.5)\n",
    "        plt.xlabel(\"Different k_values\")\n",
    "        plt.ylabel(\"R_Squared_Values\")\n",
    "        plt.legend(loc=1)\n",
    "        plt.show()\n",
    "    \n",
    "    best_k = max(results, key=results.get)\n",
    "    \n",
    "    return results, best_k"
   ]
  },
  {
   "cell_type": "code",
   "execution_count": 81,
   "metadata": {},
   "outputs": [
    {
     "data": {
      "image/png": "[encoded data removed]",
      "text/plain": [
       "<Figure size 432x288 with 1 Axes>"
      ]
     },
     "metadata": {
      "needs_background": "light"
     },
     "output_type": "display_data"
    },
    {
     "name": "stdout",
     "output_type": "stream",
     "text": [
      "{'10': 0.20078429093784056, '11': 0.20471453157159747, '12': 0.20518427542431716, '13': 0.21366486429287412, '14': 0.21340872238171293, '15': 0.20968726361179868, '16': 0.20936302327296252, '17': 0.2116146469486191, '18': 0.2154652261871668, '19': 0.2138080023815968, '20': 0.21448157879217122, '21': 0.2147897135637835, '22': 0.21586633038549063, '23': 0.21507439605671452, '24': 0.2184687154317676, '25': 0.22264315014043923, '26': 0.22271824532725137, '27': 0.22335056602643222, '28': 0.22341831093562048, '29': 0.22529925125349004, '30': 0.22616947133252008, '31': 0.22198767883814907, '32': 0.22156192071463388, '33': 0.22321884648727097, '34': 0.22253185485356208, '35': 0.2225427392182895, '36': 0.22071761370244725, '37': 0.22074868731252661, '38': 0.22025131647962315, '39': 0.22058684409040874, '40': 0.22048301145092308, '41': 0.22014078002080306, '42': 0.22088232395743967, '43': 0.22191090365214794, '44': 0.22176673940083202, '45': 0.22157245001648573, '46': 0.2215784107209281, '47': 0.22203831529683904, '48': 0.22183736665198173, '49': 0.2213141188024086, '50': 0.22139754449689297, '51': 0.22140017920212574, '52': 0.2209482132593512, '53': 0.22089771771330047, '54': 0.2210000512057647, '55': 0.22163533499015975, '56': 0.22071266786722588, '57': 0.2209241385315749, '58': 0.22059922246978325, '59': 0.22058535386977474, '60': 0.22105390392075064, '61': 0.2212096571265909, '62': 0.22121418784271218, '63': 0.22122282808260507, '64': 0.22129590456583215, '65': 0.22155758632022315, '66': 0.22155758632022327, '67': 0.221489950457325, '68': 0.2215801183194045, '69': 0.2216414981012812, '70': 0.2224459728524807, '71': 0.22200318701535393, '72': 0.22193992258504291, '73': 0.22279548515626568, '74': 0.2227457154850132}\n",
      "30\n",
      "0.22616947133252008\n"
     ]
    }
   ],
   "source": [
    "#I test a range of k values from 10 to 74 (which is the number of all features)\n",
    "#and find the number of features that generate the highest r-squared value.\n",
    "k_samples = range(10, len(X.columns))\n",
    "emre_results, emre_best_k = find_optimal_number_of_selectors(X, y, k_samples)\n",
    "print(emre_results)\n",
    "print(emre_best_k)\n",
    "print(emre_results[emre_best_k])"
   ]
  },
  {
   "cell_type": "markdown",
   "metadata": {},
   "source": [
    "## Heatmap\n",
    "let's make a heatmap\n",
    "\n",
    "\n"
   ]
  },
  {
   "cell_type": "code",
   "execution_count": 82,
   "metadata": {},
   "outputs": [],
   "source": [
    "import numpy as np;\n",
    "import seaborn as sns; "
   ]
  },
  {
   "cell_type": "code",
   "execution_count": 83,
   "metadata": {},
   "outputs": [
    {
     "data": {
      "text/html": [
       "<div>\n",
       "<style scoped>\n",
       "    .dataframe tbody tr th:only-of-type {\n",
       "        vertical-align: middle;\n",
       "    }\n",
       "\n",
       "    .dataframe tbody tr th {\n",
       "        vertical-align: top;\n",
       "    }\n",
       "\n",
       "    .dataframe thead th {\n",
       "        text-align: right;\n",
       "    }\n",
       "</style>\n",
       "<table border=\"1\" class=\"dataframe\">\n",
       "  <thead>\n",
       "    <tr style=\"text-align: right;\">\n",
       "      <th></th>\n",
       "      <th>bathrooms</th>\n",
       "      <th>bedrooms</th>\n",
       "      <th>beds</th>\n",
       "      <th>latitude</th>\n",
       "      <th>longitude</th>\n",
       "      <th>reviews_per_month</th>\n",
       "      <th>accommodates</th>\n",
       "      <th>guests_included</th>\n",
       "      <th>\"24-Hour Check-in\"</th>\n",
       "      <th>\"Suitable for Events\"</th>\n",
       "      <th>...</th>\n",
       "      <th>room_type_Private room</th>\n",
       "      <th>room_type_Shared room</th>\n",
       "      <th>bed_type_Couch</th>\n",
       "      <th>bed_type_Futon</th>\n",
       "      <th>bed_type_Pull-out Sofa</th>\n",
       "      <th>bed_type_Real Bed</th>\n",
       "      <th>instant_bookable_t</th>\n",
       "      <th>cancellation_policy_moderate</th>\n",
       "      <th>cancellation_policy_strict</th>\n",
       "      <th>cancellation_policy_super_strict_30</th>\n",
       "    </tr>\n",
       "  </thead>\n",
       "  <tbody>\n",
       "    <tr>\n",
       "      <th>0</th>\n",
       "      <td>1.5</td>\n",
       "      <td>2.0</td>\n",
       "      <td>3.0</td>\n",
       "      <td>42.282619</td>\n",
       "      <td>-71.133068</td>\n",
       "      <td>1.970908</td>\n",
       "      <td>4</td>\n",
       "      <td>1</td>\n",
       "      <td>0</td>\n",
       "      <td>0</td>\n",
       "      <td>...</td>\n",
       "      <td>0</td>\n",
       "      <td>0</td>\n",
       "      <td>0</td>\n",
       "      <td>0</td>\n",
       "      <td>0</td>\n",
       "      <td>1</td>\n",
       "      <td>0</td>\n",
       "      <td>1</td>\n",
       "      <td>0</td>\n",
       "      <td>0</td>\n",
       "    </tr>\n",
       "    <tr>\n",
       "      <th>1</th>\n",
       "      <td>1.0</td>\n",
       "      <td>1.0</td>\n",
       "      <td>1.0</td>\n",
       "      <td>42.286241</td>\n",
       "      <td>-71.134374</td>\n",
       "      <td>1.300000</td>\n",
       "      <td>2</td>\n",
       "      <td>0</td>\n",
       "      <td>0</td>\n",
       "      <td>0</td>\n",
       "      <td>...</td>\n",
       "      <td>1</td>\n",
       "      <td>0</td>\n",
       "      <td>0</td>\n",
       "      <td>0</td>\n",
       "      <td>0</td>\n",
       "      <td>1</td>\n",
       "      <td>1</td>\n",
       "      <td>1</td>\n",
       "      <td>0</td>\n",
       "      <td>0</td>\n",
       "    </tr>\n",
       "    <tr>\n",
       "      <th>2</th>\n",
       "      <td>1.0</td>\n",
       "      <td>1.0</td>\n",
       "      <td>1.0</td>\n",
       "      <td>42.292438</td>\n",
       "      <td>-71.135765</td>\n",
       "      <td>0.470000</td>\n",
       "      <td>2</td>\n",
       "      <td>1</td>\n",
       "      <td>0</td>\n",
       "      <td>0</td>\n",
       "      <td>...</td>\n",
       "      <td>1</td>\n",
       "      <td>0</td>\n",
       "      <td>0</td>\n",
       "      <td>0</td>\n",
       "      <td>0</td>\n",
       "      <td>1</td>\n",
       "      <td>0</td>\n",
       "      <td>1</td>\n",
       "      <td>0</td>\n",
       "      <td>0</td>\n",
       "    </tr>\n",
       "    <tr>\n",
       "      <th>3</th>\n",
       "      <td>1.0</td>\n",
       "      <td>1.0</td>\n",
       "      <td>2.0</td>\n",
       "      <td>42.281106</td>\n",
       "      <td>-71.121021</td>\n",
       "      <td>1.000000</td>\n",
       "      <td>4</td>\n",
       "      <td>2</td>\n",
       "      <td>0</td>\n",
       "      <td>0</td>\n",
       "      <td>...</td>\n",
       "      <td>1</td>\n",
       "      <td>0</td>\n",
       "      <td>0</td>\n",
       "      <td>0</td>\n",
       "      <td>0</td>\n",
       "      <td>1</td>\n",
       "      <td>0</td>\n",
       "      <td>1</td>\n",
       "      <td>0</td>\n",
       "      <td>0</td>\n",
       "    </tr>\n",
       "    <tr>\n",
       "      <th>4</th>\n",
       "      <td>1.5</td>\n",
       "      <td>1.0</td>\n",
       "      <td>2.0</td>\n",
       "      <td>42.284512</td>\n",
       "      <td>-71.136258</td>\n",
       "      <td>2.250000</td>\n",
       "      <td>2</td>\n",
       "      <td>1</td>\n",
       "      <td>0</td>\n",
       "      <td>0</td>\n",
       "      <td>...</td>\n",
       "      <td>1</td>\n",
       "      <td>0</td>\n",
       "      <td>0</td>\n",
       "      <td>0</td>\n",
       "      <td>0</td>\n",
       "      <td>1</td>\n",
       "      <td>0</td>\n",
       "      <td>0</td>\n",
       "      <td>0</td>\n",
       "      <td>0</td>\n",
       "    </tr>\n",
       "  </tbody>\n",
       "</table>\n",
       "<p>5 rows × 76 columns</p>\n",
       "</div>"
      ],
      "text/plain": [
       "   bathrooms  bedrooms  beds   latitude  longitude  reviews_per_month  \\\n",
       "0        1.5       2.0   3.0  42.282619 -71.133068           1.970908   \n",
       "1        1.0       1.0   1.0  42.286241 -71.134374           1.300000   \n",
       "2        1.0       1.0   1.0  42.292438 -71.135765           0.470000   \n",
       "3        1.0       1.0   2.0  42.281106 -71.121021           1.000000   \n",
       "4        1.5       1.0   2.0  42.284512 -71.136258           2.250000   \n",
       "\n",
       "   accommodates  guests_included  \"24-Hour Check-in\"  \"Suitable for Events\"  \\\n",
       "0             4                1                   0                      0   \n",
       "1             2                0                   0                      0   \n",
       "2             2                1                   0                      0   \n",
       "3             4                2                   0                      0   \n",
       "4             2                1                   0                      0   \n",
       "\n",
       "   ...  room_type_Private room  room_type_Shared room  bed_type_Couch  \\\n",
       "0  ...                       0                      0               0   \n",
       "1  ...                       1                      0               0   \n",
       "2  ...                       1                      0               0   \n",
       "3  ...                       1                      0               0   \n",
       "4  ...                       1                      0               0   \n",
       "\n",
       "   bed_type_Futon  bed_type_Pull-out Sofa  bed_type_Real Bed  \\\n",
       "0               0                       0                  1   \n",
       "1               0                       0                  1   \n",
       "2               0                       0                  1   \n",
       "3               0                       0                  1   \n",
       "4               0                       0                  1   \n",
       "\n",
       "   instant_bookable_t  cancellation_policy_moderate  \\\n",
       "0                   0                             1   \n",
       "1                   1                             1   \n",
       "2                   0                             1   \n",
       "3                   0                             1   \n",
       "4                   0                             0   \n",
       "\n",
       "   cancellation_policy_strict  cancellation_policy_super_strict_30  \n",
       "0                           0                                    0  \n",
       "1                           0                                    0  \n",
       "2                           0                                    0  \n",
       "3                           0                                    0  \n",
       "4                           0                                    0  \n",
       "\n",
       "[5 rows x 76 columns]"
      ]
     },
     "execution_count": 83,
     "metadata": {},
     "output_type": "execute_result"
    }
   ],
   "source": [
    "#heatmap\n",
    "df_lis_ml.head()\n",
    " "
   ]
  },
  {
   "cell_type": "code",
   "execution_count": 84,
   "metadata": {},
   "outputs": [
    {
     "data": {
      "text/plain": [
       "['bathrooms',\n",
       " 'bedrooms',\n",
       " 'beds',\n",
       " 'latitude',\n",
       " 'longitude',\n",
       " 'reviews_per_month',\n",
       " 'accommodates',\n",
       " 'guests_included',\n",
       " '\"24-Hour Check-in\"',\n",
       " '\"Suitable for Events\"',\n",
       " '\"Pets live on this property\"',\n",
       " 'Dog(s)',\n",
       " '\"Smoking Allowed\"',\n",
       " '\"Other pet(s)\"',\n",
       " 'Essentials',\n",
       " '\"Wireless Internet\"',\n",
       " '\"Buzzer/Wireless Intercom\"',\n",
       " 'TV',\n",
       " 'Gym',\n",
       " 'Washer',\n",
       " 'Doorman',\n",
       " 'Dryer',\n",
       " '\"Hot Tub\"',\n",
       " '\"Air Conditioning\"',\n",
       " '\"Pets Allowed\"',\n",
       " 'Pool',\n",
       " '\"Hair Dryer\"',\n",
       " '\"Fire Extinguisher\"',\n",
       " 'Breakfast',\n",
       " '\"Washer / Dryer\"',\n",
       " '\"Laptop Friendly Workspace\"',\n",
       " '\"Free Parking on Premises\"',\n",
       " '\"Lock on Bedroom Door\"',\n",
       " 'Cat(s)',\n",
       " 'Hangers',\n",
       " '\"Family/Kid Friendly\"',\n",
       " '\"Carbon Monoxide Detector\"',\n",
       " '\"Safety Card\"',\n",
       " 'Kitchen',\n",
       " '\"Elevator in Building\"',\n",
       " 'Internet',\n",
       " 'Shampoo',\n",
       " '\"Smoke Detector\"',\n",
       " '\"Wheelchair Accessible\"',\n",
       " 'Iron',\n",
       " '\"First Aid Kit\"',\n",
       " '\"Indoor Fireplace\"',\n",
       " '\"Cable TV\"',\n",
       " 'Heating',\n",
       " 'price',\n",
       " 'security_deposit',\n",
       " 'cleaning_fee',\n",
       " 'extra_people',\n",
       " 'host_is_superhost_t',\n",
       " 'property_type_Bed & Breakfast',\n",
       " 'property_type_Boat',\n",
       " 'property_type_Camper/RV',\n",
       " 'property_type_Condominium',\n",
       " 'property_type_Dorm',\n",
       " 'property_type_Entire Floor',\n",
       " 'property_type_Guesthouse',\n",
       " 'property_type_House',\n",
       " 'property_type_Loft',\n",
       " 'property_type_Other',\n",
       " 'property_type_Townhouse',\n",
       " 'property_type_Villa',\n",
       " 'room_type_Private room',\n",
       " 'room_type_Shared room',\n",
       " 'bed_type_Couch',\n",
       " 'bed_type_Futon',\n",
       " 'bed_type_Pull-out Sofa',\n",
       " 'bed_type_Real Bed',\n",
       " 'instant_bookable_t',\n",
       " 'cancellation_policy_moderate',\n",
       " 'cancellation_policy_strict',\n",
       " 'cancellation_policy_super_strict_30']"
      ]
     },
     "execution_count": 84,
     "metadata": {},
     "output_type": "execute_result"
    }
   ],
   "source": [
    "list(df_lis_ml)"
   ]
  },
  {
   "cell_type": "markdown",
   "metadata": {},
   "source": [
    "## Correlation Heatmap  using Seaborn"
   ]
  },
  {
   "cell_type": "code",
   "execution_count": 85,
   "metadata": {},
   "outputs": [
    {
     "data": {
      "text/html": [
       "<div>\n",
       "<style scoped>\n",
       "    .dataframe tbody tr th:only-of-type {\n",
       "        vertical-align: middle;\n",
       "    }\n",
       "\n",
       "    .dataframe tbody tr th {\n",
       "        vertical-align: top;\n",
       "    }\n",
       "\n",
       "    .dataframe thead th {\n",
       "        text-align: right;\n",
       "    }\n",
       "</style>\n",
       "<table border=\"1\" class=\"dataframe\">\n",
       "  <thead>\n",
       "    <tr style=\"text-align: right;\">\n",
       "      <th></th>\n",
       "      <th>bathrooms</th>\n",
       "      <th>bedrooms</th>\n",
       "      <th>beds</th>\n",
       "      <th>latitude</th>\n",
       "      <th>longitude</th>\n",
       "      <th>reviews_per_month</th>\n",
       "      <th>accommodates</th>\n",
       "      <th>guests_included</th>\n",
       "      <th>\"24-Hour Check-in\"</th>\n",
       "      <th>\"Suitable for Events\"</th>\n",
       "      <th>...</th>\n",
       "      <th>room_type_Private room</th>\n",
       "      <th>room_type_Shared room</th>\n",
       "      <th>bed_type_Couch</th>\n",
       "      <th>bed_type_Futon</th>\n",
       "      <th>bed_type_Pull-out Sofa</th>\n",
       "      <th>bed_type_Real Bed</th>\n",
       "      <th>instant_bookable_t</th>\n",
       "      <th>cancellation_policy_moderate</th>\n",
       "      <th>cancellation_policy_strict</th>\n",
       "      <th>cancellation_policy_super_strict_30</th>\n",
       "    </tr>\n",
       "  </thead>\n",
       "  <tbody>\n",
       "    <tr>\n",
       "      <th>0</th>\n",
       "      <td>1.5</td>\n",
       "      <td>2.0</td>\n",
       "      <td>3.0</td>\n",
       "      <td>42.282619</td>\n",
       "      <td>-71.133068</td>\n",
       "      <td>1.970908</td>\n",
       "      <td>4</td>\n",
       "      <td>1</td>\n",
       "      <td>0</td>\n",
       "      <td>0</td>\n",
       "      <td>...</td>\n",
       "      <td>0</td>\n",
       "      <td>0</td>\n",
       "      <td>0</td>\n",
       "      <td>0</td>\n",
       "      <td>0</td>\n",
       "      <td>1</td>\n",
       "      <td>0</td>\n",
       "      <td>1</td>\n",
       "      <td>0</td>\n",
       "      <td>0</td>\n",
       "    </tr>\n",
       "    <tr>\n",
       "      <th>1</th>\n",
       "      <td>1.0</td>\n",
       "      <td>1.0</td>\n",
       "      <td>1.0</td>\n",
       "      <td>42.286241</td>\n",
       "      <td>-71.134374</td>\n",
       "      <td>1.300000</td>\n",
       "      <td>2</td>\n",
       "      <td>0</td>\n",
       "      <td>0</td>\n",
       "      <td>0</td>\n",
       "      <td>...</td>\n",
       "      <td>1</td>\n",
       "      <td>0</td>\n",
       "      <td>0</td>\n",
       "      <td>0</td>\n",
       "      <td>0</td>\n",
       "      <td>1</td>\n",
       "      <td>1</td>\n",
       "      <td>1</td>\n",
       "      <td>0</td>\n",
       "      <td>0</td>\n",
       "    </tr>\n",
       "    <tr>\n",
       "      <th>2</th>\n",
       "      <td>1.0</td>\n",
       "      <td>1.0</td>\n",
       "      <td>1.0</td>\n",
       "      <td>42.292438</td>\n",
       "      <td>-71.135765</td>\n",
       "      <td>0.470000</td>\n",
       "      <td>2</td>\n",
       "      <td>1</td>\n",
       "      <td>0</td>\n",
       "      <td>0</td>\n",
       "      <td>...</td>\n",
       "      <td>1</td>\n",
       "      <td>0</td>\n",
       "      <td>0</td>\n",
       "      <td>0</td>\n",
       "      <td>0</td>\n",
       "      <td>1</td>\n",
       "      <td>0</td>\n",
       "      <td>1</td>\n",
       "      <td>0</td>\n",
       "      <td>0</td>\n",
       "    </tr>\n",
       "    <tr>\n",
       "      <th>3</th>\n",
       "      <td>1.0</td>\n",
       "      <td>1.0</td>\n",
       "      <td>2.0</td>\n",
       "      <td>42.281106</td>\n",
       "      <td>-71.121021</td>\n",
       "      <td>1.000000</td>\n",
       "      <td>4</td>\n",
       "      <td>2</td>\n",
       "      <td>0</td>\n",
       "      <td>0</td>\n",
       "      <td>...</td>\n",
       "      <td>1</td>\n",
       "      <td>0</td>\n",
       "      <td>0</td>\n",
       "      <td>0</td>\n",
       "      <td>0</td>\n",
       "      <td>1</td>\n",
       "      <td>0</td>\n",
       "      <td>1</td>\n",
       "      <td>0</td>\n",
       "      <td>0</td>\n",
       "    </tr>\n",
       "    <tr>\n",
       "      <th>4</th>\n",
       "      <td>1.5</td>\n",
       "      <td>1.0</td>\n",
       "      <td>2.0</td>\n",
       "      <td>42.284512</td>\n",
       "      <td>-71.136258</td>\n",
       "      <td>2.250000</td>\n",
       "      <td>2</td>\n",
       "      <td>1</td>\n",
       "      <td>0</td>\n",
       "      <td>0</td>\n",
       "      <td>...</td>\n",
       "      <td>1</td>\n",
       "      <td>0</td>\n",
       "      <td>0</td>\n",
       "      <td>0</td>\n",
       "      <td>0</td>\n",
       "      <td>1</td>\n",
       "      <td>0</td>\n",
       "      <td>0</td>\n",
       "      <td>0</td>\n",
       "      <td>0</td>\n",
       "    </tr>\n",
       "    <tr>\n",
       "      <th>...</th>\n",
       "      <td>...</td>\n",
       "      <td>...</td>\n",
       "      <td>...</td>\n",
       "      <td>...</td>\n",
       "      <td>...</td>\n",
       "      <td>...</td>\n",
       "      <td>...</td>\n",
       "      <td>...</td>\n",
       "      <td>...</td>\n",
       "      <td>...</td>\n",
       "      <td>...</td>\n",
       "      <td>...</td>\n",
       "      <td>...</td>\n",
       "      <td>...</td>\n",
       "      <td>...</td>\n",
       "      <td>...</td>\n",
       "      <td>...</td>\n",
       "      <td>...</td>\n",
       "      <td>...</td>\n",
       "      <td>...</td>\n",
       "      <td>...</td>\n",
       "    </tr>\n",
       "    <tr>\n",
       "      <th>3580</th>\n",
       "      <td>1.0</td>\n",
       "      <td>1.0</td>\n",
       "      <td>1.0</td>\n",
       "      <td>42.380968</td>\n",
       "      <td>-71.083795</td>\n",
       "      <td>0.340000</td>\n",
       "      <td>3</td>\n",
       "      <td>1</td>\n",
       "      <td>1</td>\n",
       "      <td>0</td>\n",
       "      <td>...</td>\n",
       "      <td>1</td>\n",
       "      <td>0</td>\n",
       "      <td>0</td>\n",
       "      <td>0</td>\n",
       "      <td>0</td>\n",
       "      <td>1</td>\n",
       "      <td>1</td>\n",
       "      <td>0</td>\n",
       "      <td>1</td>\n",
       "      <td>0</td>\n",
       "    </tr>\n",
       "    <tr>\n",
       "      <th>3581</th>\n",
       "      <td>1.0</td>\n",
       "      <td>1.0</td>\n",
       "      <td>1.0</td>\n",
       "      <td>42.347503</td>\n",
       "      <td>-71.118336</td>\n",
       "      <td>1.970908</td>\n",
       "      <td>2</td>\n",
       "      <td>1</td>\n",
       "      <td>1</td>\n",
       "      <td>0</td>\n",
       "      <td>...</td>\n",
       "      <td>1</td>\n",
       "      <td>0</td>\n",
       "      <td>0</td>\n",
       "      <td>0</td>\n",
       "      <td>0</td>\n",
       "      <td>1</td>\n",
       "      <td>0</td>\n",
       "      <td>0</td>\n",
       "      <td>1</td>\n",
       "      <td>0</td>\n",
       "    </tr>\n",
       "    <tr>\n",
       "      <th>3582</th>\n",
       "      <td>1.0</td>\n",
       "      <td>1.0</td>\n",
       "      <td>1.0</td>\n",
       "      <td>42.371771</td>\n",
       "      <td>-71.071300</td>\n",
       "      <td>1.970908</td>\n",
       "      <td>4</td>\n",
       "      <td>1</td>\n",
       "      <td>0</td>\n",
       "      <td>0</td>\n",
       "      <td>...</td>\n",
       "      <td>0</td>\n",
       "      <td>0</td>\n",
       "      <td>0</td>\n",
       "      <td>0</td>\n",
       "      <td>0</td>\n",
       "      <td>1</td>\n",
       "      <td>0</td>\n",
       "      <td>0</td>\n",
       "      <td>0</td>\n",
       "      <td>0</td>\n",
       "    </tr>\n",
       "    <tr>\n",
       "      <th>3583</th>\n",
       "      <td>1.0</td>\n",
       "      <td>1.0</td>\n",
       "      <td>1.0</td>\n",
       "      <td>42.385226</td>\n",
       "      <td>-71.080923</td>\n",
       "      <td>2.000000</td>\n",
       "      <td>2</td>\n",
       "      <td>1</td>\n",
       "      <td>0</td>\n",
       "      <td>0</td>\n",
       "      <td>...</td>\n",
       "      <td>1</td>\n",
       "      <td>0</td>\n",
       "      <td>0</td>\n",
       "      <td>0</td>\n",
       "      <td>0</td>\n",
       "      <td>1</td>\n",
       "      <td>0</td>\n",
       "      <td>0</td>\n",
       "      <td>1</td>\n",
       "      <td>0</td>\n",
       "    </tr>\n",
       "    <tr>\n",
       "      <th>3584</th>\n",
       "      <td>1.0</td>\n",
       "      <td>1.0</td>\n",
       "      <td>1.0</td>\n",
       "      <td>42.387888</td>\n",
       "      <td>-71.080654</td>\n",
       "      <td>1.970908</td>\n",
       "      <td>2</td>\n",
       "      <td>1</td>\n",
       "      <td>0</td>\n",
       "      <td>0</td>\n",
       "      <td>...</td>\n",
       "      <td>1</td>\n",
       "      <td>0</td>\n",
       "      <td>0</td>\n",
       "      <td>0</td>\n",
       "      <td>0</td>\n",
       "      <td>1</td>\n",
       "      <td>1</td>\n",
       "      <td>0</td>\n",
       "      <td>0</td>\n",
       "      <td>0</td>\n",
       "    </tr>\n",
       "  </tbody>\n",
       "</table>\n",
       "<p>3585 rows × 76 columns</p>\n",
       "</div>"
      ],
      "text/plain": [
       "      bathrooms  bedrooms  beds   latitude  longitude  reviews_per_month  \\\n",
       "0           1.5       2.0   3.0  42.282619 -71.133068           1.970908   \n",
       "1           1.0       1.0   1.0  42.286241 -71.134374           1.300000   \n",
       "2           1.0       1.0   1.0  42.292438 -71.135765           0.470000   \n",
       "3           1.0       1.0   2.0  42.281106 -71.121021           1.000000   \n",
       "4           1.5       1.0   2.0  42.284512 -71.136258           2.250000   \n",
       "...         ...       ...   ...        ...        ...                ...   \n",
       "3580        1.0       1.0   1.0  42.380968 -71.083795           0.340000   \n",
       "3581        1.0       1.0   1.0  42.347503 -71.118336           1.970908   \n",
       "3582        1.0       1.0   1.0  42.371771 -71.071300           1.970908   \n",
       "3583        1.0       1.0   1.0  42.385226 -71.080923           2.000000   \n",
       "3584        1.0       1.0   1.0  42.387888 -71.080654           1.970908   \n",
       "\n",
       "      accommodates  guests_included  \"24-Hour Check-in\"  \\\n",
       "0                4                1                   0   \n",
       "1                2                0                   0   \n",
       "2                2                1                   0   \n",
       "3                4                2                   0   \n",
       "4                2                1                   0   \n",
       "...            ...              ...                 ...   \n",
       "3580             3                1                   1   \n",
       "3581             2                1                   1   \n",
       "3582             4                1                   0   \n",
       "3583             2                1                   0   \n",
       "3584             2                1                   0   \n",
       "\n",
       "      \"Suitable for Events\"  ...  room_type_Private room  \\\n",
       "0                         0  ...                       0   \n",
       "1                         0  ...                       1   \n",
       "2                         0  ...                       1   \n",
       "3                         0  ...                       1   \n",
       "4                         0  ...                       1   \n",
       "...                     ...  ...                     ...   \n",
       "3580                      0  ...                       1   \n",
       "3581                      0  ...                       1   \n",
       "3582                      0  ...                       0   \n",
       "3583                      0  ...                       1   \n",
       "3584                      0  ...                       1   \n",
       "\n",
       "      room_type_Shared room  bed_type_Couch  bed_type_Futon  \\\n",
       "0                         0               0               0   \n",
       "1                         0               0               0   \n",
       "2                         0               0               0   \n",
       "3                         0               0               0   \n",
       "4                         0               0               0   \n",
       "...                     ...             ...             ...   \n",
       "3580                      0               0               0   \n",
       "3581                      0               0               0   \n",
       "3582                      0               0               0   \n",
       "3583                      0               0               0   \n",
       "3584                      0               0               0   \n",
       "\n",
       "      bed_type_Pull-out Sofa  bed_type_Real Bed  instant_bookable_t  \\\n",
       "0                          0                  1                   0   \n",
       "1                          0                  1                   1   \n",
       "2                          0                  1                   0   \n",
       "3                          0                  1                   0   \n",
       "4                          0                  1                   0   \n",
       "...                      ...                ...                 ...   \n",
       "3580                       0                  1                   1   \n",
       "3581                       0                  1                   0   \n",
       "3582                       0                  1                   0   \n",
       "3583                       0                  1                   0   \n",
       "3584                       0                  1                   1   \n",
       "\n",
       "      cancellation_policy_moderate  cancellation_policy_strict  \\\n",
       "0                                1                           0   \n",
       "1                                1                           0   \n",
       "2                                1                           0   \n",
       "3                                1                           0   \n",
       "4                                0                           0   \n",
       "...                            ...                         ...   \n",
       "3580                             0                           1   \n",
       "3581                             0                           1   \n",
       "3582                             0                           0   \n",
       "3583                             0                           1   \n",
       "3584                             0                           0   \n",
       "\n",
       "      cancellation_policy_super_strict_30  \n",
       "0                                       0  \n",
       "1                                       0  \n",
       "2                                       0  \n",
       "3                                       0  \n",
       "4                                       0  \n",
       "...                                   ...  \n",
       "3580                                    0  \n",
       "3581                                    0  \n",
       "3582                                    0  \n",
       "3583                                    0  \n",
       "3584                                    0  \n",
       "\n",
       "[3585 rows x 76 columns]"
      ]
     },
     "execution_count": 85,
     "metadata": {},
     "output_type": "execute_result"
    }
   ],
   "source": [
    "df_lis_ml \n",
    "\n"
   ]
  },
  {
   "cell_type": "code",
   "execution_count": 86,
   "metadata": {
    "scrolled": true
   },
   "outputs": [
    {
     "data": {
      "text/html": [
       "<div>\n",
       "<style scoped>\n",
       "    .dataframe tbody tr th:only-of-type {\n",
       "        vertical-align: middle;\n",
       "    }\n",
       "\n",
       "    .dataframe tbody tr th {\n",
       "        vertical-align: top;\n",
       "    }\n",
       "\n",
       "    .dataframe thead th {\n",
       "        text-align: right;\n",
       "    }\n",
       "</style>\n",
       "<table border=\"1\" class=\"dataframe\">\n",
       "  <thead>\n",
       "    <tr style=\"text-align: right;\">\n",
       "      <th></th>\n",
       "      <th>price</th>\n",
       "      <th>bathrooms</th>\n",
       "      <th>bedrooms</th>\n",
       "      <th>beds</th>\n",
       "      <th>latitude</th>\n",
       "      <th>longitude</th>\n",
       "      <th>reviews_per_month</th>\n",
       "      <th>accommodates</th>\n",
       "      <th>cleaning_fee</th>\n",
       "      <th>TV</th>\n",
       "      <th>\"Cable TV\"</th>\n",
       "      <th>\"Indoor Fireplace\"</th>\n",
       "      <th>Kitchen</th>\n",
       "    </tr>\n",
       "  </thead>\n",
       "  <tbody>\n",
       "    <tr>\n",
       "      <th>0</th>\n",
       "      <td>250.0</td>\n",
       "      <td>1.5</td>\n",
       "      <td>2.0</td>\n",
       "      <td>3.0</td>\n",
       "      <td>42.282619</td>\n",
       "      <td>-71.133068</td>\n",
       "      <td>1.970908</td>\n",
       "      <td>4</td>\n",
       "      <td>35.0</td>\n",
       "      <td>1</td>\n",
       "      <td>0</td>\n",
       "      <td>0</td>\n",
       "      <td>1</td>\n",
       "    </tr>\n",
       "    <tr>\n",
       "      <th>1</th>\n",
       "      <td>65.0</td>\n",
       "      <td>1.0</td>\n",
       "      <td>1.0</td>\n",
       "      <td>1.0</td>\n",
       "      <td>42.286241</td>\n",
       "      <td>-71.134374</td>\n",
       "      <td>1.300000</td>\n",
       "      <td>2</td>\n",
       "      <td>10.0</td>\n",
       "      <td>1</td>\n",
       "      <td>0</td>\n",
       "      <td>0</td>\n",
       "      <td>1</td>\n",
       "    </tr>\n",
       "    <tr>\n",
       "      <th>2</th>\n",
       "      <td>65.0</td>\n",
       "      <td>1.0</td>\n",
       "      <td>1.0</td>\n",
       "      <td>1.0</td>\n",
       "      <td>42.292438</td>\n",
       "      <td>-71.135765</td>\n",
       "      <td>0.470000</td>\n",
       "      <td>2</td>\n",
       "      <td>0.0</td>\n",
       "      <td>1</td>\n",
       "      <td>1</td>\n",
       "      <td>0</td>\n",
       "      <td>1</td>\n",
       "    </tr>\n",
       "    <tr>\n",
       "      <th>3</th>\n",
       "      <td>75.0</td>\n",
       "      <td>1.0</td>\n",
       "      <td>1.0</td>\n",
       "      <td>2.0</td>\n",
       "      <td>42.281106</td>\n",
       "      <td>-71.121021</td>\n",
       "      <td>1.000000</td>\n",
       "      <td>4</td>\n",
       "      <td>50.0</td>\n",
       "      <td>1</td>\n",
       "      <td>0</td>\n",
       "      <td>1</td>\n",
       "      <td>1</td>\n",
       "    </tr>\n",
       "    <tr>\n",
       "      <th>4</th>\n",
       "      <td>79.0</td>\n",
       "      <td>1.5</td>\n",
       "      <td>1.0</td>\n",
       "      <td>2.0</td>\n",
       "      <td>42.284512</td>\n",
       "      <td>-71.136258</td>\n",
       "      <td>2.250000</td>\n",
       "      <td>2</td>\n",
       "      <td>15.0</td>\n",
       "      <td>0</td>\n",
       "      <td>0</td>\n",
       "      <td>0</td>\n",
       "      <td>1</td>\n",
       "    </tr>\n",
       "  </tbody>\n",
       "</table>\n",
       "</div>"
      ],
      "text/plain": [
       "   price  bathrooms  bedrooms  beds   latitude  longitude  reviews_per_month  \\\n",
       "0  250.0        1.5       2.0   3.0  42.282619 -71.133068           1.970908   \n",
       "1   65.0        1.0       1.0   1.0  42.286241 -71.134374           1.300000   \n",
       "2   65.0        1.0       1.0   1.0  42.292438 -71.135765           0.470000   \n",
       "3   75.0        1.0       1.0   2.0  42.281106 -71.121021           1.000000   \n",
       "4   79.0        1.5       1.0   2.0  42.284512 -71.136258           2.250000   \n",
       "\n",
       "   accommodates  cleaning_fee  TV  \"Cable TV\"  \"Indoor Fireplace\"  Kitchen  \n",
       "0             4          35.0   1           0                   0        1  \n",
       "1             2          10.0   1           0                   0        1  \n",
       "2             2           0.0   1           1                   0        1  \n",
       "3             4          50.0   1           0                   1        1  \n",
       "4             2          15.0   0           0                   0        1  "
      ]
     },
     "execution_count": 86,
     "metadata": {},
     "output_type": "execute_result"
    }
   ],
   "source": [
    "#We select some variables of interest \n",
    "df_lis_ml_corr = df_lis_ml[[\"price\", \"bathrooms\", \"bedrooms\",\"beds\", \"latitude\", \"longitude\",\"reviews_per_month\", \"accommodates\", \n",
    "     \"cleaning_fee\", \"TV\", '\"Cable TV\"','\"Indoor Fireplace\"', \"Kitchen\"\n",
    "                            ]]\n",
    "df_lis_ml_corr.head()\n",
    "\n"
   ]
  },
  {
   "cell_type": "code",
   "execution_count": 87,
   "metadata": {},
   "outputs": [
    {
     "data": {
      "text/html": [
       "<div>\n",
       "<style scoped>\n",
       "    .dataframe tbody tr th:only-of-type {\n",
       "        vertical-align: middle;\n",
       "    }\n",
       "\n",
       "    .dataframe tbody tr th {\n",
       "        vertical-align: top;\n",
       "    }\n",
       "\n",
       "    .dataframe thead th {\n",
       "        text-align: right;\n",
       "    }\n",
       "</style>\n",
       "<table border=\"1\" class=\"dataframe\">\n",
       "  <thead>\n",
       "    <tr style=\"text-align: right;\">\n",
       "      <th></th>\n",
       "      <th>price</th>\n",
       "      <th>bathrooms</th>\n",
       "      <th>bedrooms</th>\n",
       "      <th>beds</th>\n",
       "      <th>latitude</th>\n",
       "      <th>longitude</th>\n",
       "      <th>reviews_per_month</th>\n",
       "      <th>accommodates</th>\n",
       "      <th>cleaning_fee</th>\n",
       "      <th>TV</th>\n",
       "      <th>\"Cable TV\"</th>\n",
       "      <th>\"Indoor Fireplace\"</th>\n",
       "      <th>Kitchen</th>\n",
       "    </tr>\n",
       "  </thead>\n",
       "  <tbody>\n",
       "    <tr>\n",
       "      <th>price</th>\n",
       "      <td>1.000000</td>\n",
       "      <td>0.248003</td>\n",
       "      <td>0.385227</td>\n",
       "      <td>0.369777</td>\n",
       "      <td>0.196270</td>\n",
       "      <td>0.165621</td>\n",
       "      <td>-0.106502</td>\n",
       "      <td>0.437756</td>\n",
       "      <td>0.299320</td>\n",
       "      <td>0.248912</td>\n",
       "      <td>0.226981</td>\n",
       "      <td>0.094293</td>\n",
       "      <td>0.095146</td>\n",
       "    </tr>\n",
       "    <tr>\n",
       "      <th>bathrooms</th>\n",
       "      <td>0.248003</td>\n",
       "      <td>1.000000</td>\n",
       "      <td>0.430588</td>\n",
       "      <td>0.347531</td>\n",
       "      <td>-0.020697</td>\n",
       "      <td>0.010155</td>\n",
       "      <td>-0.040668</td>\n",
       "      <td>0.346516</td>\n",
       "      <td>0.198076</td>\n",
       "      <td>0.106105</td>\n",
       "      <td>0.112309</td>\n",
       "      <td>0.105964</td>\n",
       "      <td>0.050576</td>\n",
       "    </tr>\n",
       "    <tr>\n",
       "      <th>bedrooms</th>\n",
       "      <td>0.385227</td>\n",
       "      <td>0.430588</td>\n",
       "      <td>1.000000</td>\n",
       "      <td>0.710190</td>\n",
       "      <td>-0.045465</td>\n",
       "      <td>0.015719</td>\n",
       "      <td>-0.054535</td>\n",
       "      <td>0.724479</td>\n",
       "      <td>0.295568</td>\n",
       "      <td>0.144091</td>\n",
       "      <td>0.146387</td>\n",
       "      <td>0.105594</td>\n",
       "      <td>0.098699</td>\n",
       "    </tr>\n",
       "    <tr>\n",
       "      <th>beds</th>\n",
       "      <td>0.369777</td>\n",
       "      <td>0.347531</td>\n",
       "      <td>0.710190</td>\n",
       "      <td>1.000000</td>\n",
       "      <td>-0.012366</td>\n",
       "      <td>0.033721</td>\n",
       "      <td>-0.000912</td>\n",
       "      <td>0.814681</td>\n",
       "      <td>0.346180</td>\n",
       "      <td>0.155514</td>\n",
       "      <td>0.121252</td>\n",
       "      <td>0.075680</td>\n",
       "      <td>0.097453</td>\n",
       "    </tr>\n",
       "    <tr>\n",
       "      <th>latitude</th>\n",
       "      <td>0.196270</td>\n",
       "      <td>-0.020697</td>\n",
       "      <td>-0.045465</td>\n",
       "      <td>-0.012366</td>\n",
       "      <td>1.000000</td>\n",
       "      <td>0.319327</td>\n",
       "      <td>0.044858</td>\n",
       "      <td>0.053818</td>\n",
       "      <td>0.132381</td>\n",
       "      <td>0.086526</td>\n",
       "      <td>0.124433</td>\n",
       "      <td>-0.062357</td>\n",
       "      <td>0.066147</td>\n",
       "    </tr>\n",
       "    <tr>\n",
       "      <th>longitude</th>\n",
       "      <td>0.165621</td>\n",
       "      <td>0.010155</td>\n",
       "      <td>0.015719</td>\n",
       "      <td>0.033721</td>\n",
       "      <td>0.319327</td>\n",
       "      <td>1.000000</td>\n",
       "      <td>0.097826</td>\n",
       "      <td>0.083658</td>\n",
       "      <td>0.119139</td>\n",
       "      <td>0.165364</td>\n",
       "      <td>0.138231</td>\n",
       "      <td>0.002927</td>\n",
       "      <td>0.048693</td>\n",
       "    </tr>\n",
       "    <tr>\n",
       "      <th>reviews_per_month</th>\n",
       "      <td>-0.106502</td>\n",
       "      <td>-0.040668</td>\n",
       "      <td>-0.054535</td>\n",
       "      <td>-0.000912</td>\n",
       "      <td>0.044858</td>\n",
       "      <td>0.097826</td>\n",
       "      <td>1.000000</td>\n",
       "      <td>0.006869</td>\n",
       "      <td>-0.159490</td>\n",
       "      <td>-0.062764</td>\n",
       "      <td>-0.107246</td>\n",
       "      <td>-0.030409</td>\n",
       "      <td>-0.093547</td>\n",
       "    </tr>\n",
       "    <tr>\n",
       "      <th>accommodates</th>\n",
       "      <td>0.437756</td>\n",
       "      <td>0.346516</td>\n",
       "      <td>0.724479</td>\n",
       "      <td>0.814681</td>\n",
       "      <td>0.053818</td>\n",
       "      <td>0.083658</td>\n",
       "      <td>0.006869</td>\n",
       "      <td>1.000000</td>\n",
       "      <td>0.409903</td>\n",
       "      <td>0.257632</td>\n",
       "      <td>0.218294</td>\n",
       "      <td>0.082210</td>\n",
       "      <td>0.141045</td>\n",
       "    </tr>\n",
       "    <tr>\n",
       "      <th>cleaning_fee</th>\n",
       "      <td>0.299320</td>\n",
       "      <td>0.198076</td>\n",
       "      <td>0.295568</td>\n",
       "      <td>0.346180</td>\n",
       "      <td>0.132381</td>\n",
       "      <td>0.119139</td>\n",
       "      <td>-0.159490</td>\n",
       "      <td>0.409903</td>\n",
       "      <td>1.000000</td>\n",
       "      <td>0.255508</td>\n",
       "      <td>0.326858</td>\n",
       "      <td>0.019142</td>\n",
       "      <td>0.154012</td>\n",
       "    </tr>\n",
       "    <tr>\n",
       "      <th>TV</th>\n",
       "      <td>0.248912</td>\n",
       "      <td>0.106105</td>\n",
       "      <td>0.144091</td>\n",
       "      <td>0.155514</td>\n",
       "      <td>0.086526</td>\n",
       "      <td>0.165364</td>\n",
       "      <td>-0.062764</td>\n",
       "      <td>0.257632</td>\n",
       "      <td>0.255508</td>\n",
       "      <td>1.000000</td>\n",
       "      <td>0.554772</td>\n",
       "      <td>0.086303</td>\n",
       "      <td>0.211503</td>\n",
       "    </tr>\n",
       "    <tr>\n",
       "      <th>\"Cable TV\"</th>\n",
       "      <td>0.226981</td>\n",
       "      <td>0.112309</td>\n",
       "      <td>0.146387</td>\n",
       "      <td>0.121252</td>\n",
       "      <td>0.124433</td>\n",
       "      <td>0.138231</td>\n",
       "      <td>-0.107246</td>\n",
       "      <td>0.218294</td>\n",
       "      <td>0.326858</td>\n",
       "      <td>0.554772</td>\n",
       "      <td>1.000000</td>\n",
       "      <td>0.071373</td>\n",
       "      <td>0.150100</td>\n",
       "    </tr>\n",
       "    <tr>\n",
       "      <th>\"Indoor Fireplace\"</th>\n",
       "      <td>0.094293</td>\n",
       "      <td>0.105964</td>\n",
       "      <td>0.105594</td>\n",
       "      <td>0.075680</td>\n",
       "      <td>-0.062357</td>\n",
       "      <td>0.002927</td>\n",
       "      <td>-0.030409</td>\n",
       "      <td>0.082210</td>\n",
       "      <td>0.019142</td>\n",
       "      <td>0.086303</td>\n",
       "      <td>0.071373</td>\n",
       "      <td>1.000000</td>\n",
       "      <td>0.028964</td>\n",
       "    </tr>\n",
       "    <tr>\n",
       "      <th>Kitchen</th>\n",
       "      <td>0.095146</td>\n",
       "      <td>0.050576</td>\n",
       "      <td>0.098699</td>\n",
       "      <td>0.097453</td>\n",
       "      <td>0.066147</td>\n",
       "      <td>0.048693</td>\n",
       "      <td>-0.093547</td>\n",
       "      <td>0.141045</td>\n",
       "      <td>0.154012</td>\n",
       "      <td>0.211503</td>\n",
       "      <td>0.150100</td>\n",
       "      <td>0.028964</td>\n",
       "      <td>1.000000</td>\n",
       "    </tr>\n",
       "  </tbody>\n",
       "</table>\n",
       "</div>"
      ],
      "text/plain": [
       "                       price  bathrooms  bedrooms      beds  latitude  \\\n",
       "price               1.000000   0.248003  0.385227  0.369777  0.196270   \n",
       "bathrooms           0.248003   1.000000  0.430588  0.347531 -0.020697   \n",
       "bedrooms            0.385227   0.430588  1.000000  0.710190 -0.045465   \n",
       "beds                0.369777   0.347531  0.710190  1.000000 -0.012366   \n",
       "latitude            0.196270  -0.020697 -0.045465 -0.012366  1.000000   \n",
       "longitude           0.165621   0.010155  0.015719  0.033721  0.319327   \n",
       "reviews_per_month  -0.106502  -0.040668 -0.054535 -0.000912  0.044858   \n",
       "accommodates        0.437756   0.346516  0.724479  0.814681  0.053818   \n",
       "cleaning_fee        0.299320   0.198076  0.295568  0.346180  0.132381   \n",
       "TV                  0.248912   0.106105  0.144091  0.155514  0.086526   \n",
       "\"Cable TV\"          0.226981   0.112309  0.146387  0.121252  0.124433   \n",
       "\"Indoor Fireplace\"  0.094293   0.105964  0.105594  0.075680 -0.062357   \n",
       "Kitchen             0.095146   0.050576  0.098699  0.097453  0.066147   \n",
       "\n",
       "                    longitude  reviews_per_month  accommodates  cleaning_fee  \\\n",
       "price                0.165621          -0.106502      0.437756      0.299320   \n",
       "bathrooms            0.010155          -0.040668      0.346516      0.198076   \n",
       "bedrooms             0.015719          -0.054535      0.724479      0.295568   \n",
       "beds                 0.033721          -0.000912      0.814681      0.346180   \n",
       "latitude             0.319327           0.044858      0.053818      0.132381   \n",
       "longitude            1.000000           0.097826      0.083658      0.119139   \n",
       "reviews_per_month    0.097826           1.000000      0.006869     -0.159490   \n",
       "accommodates         0.083658           0.006869      1.000000      0.409903   \n",
       "cleaning_fee         0.119139          -0.159490      0.409903      1.000000   \n",
       "TV                   0.165364          -0.062764      0.257632      0.255508   \n",
       "\"Cable TV\"           0.138231          -0.107246      0.218294      0.326858   \n",
       "\"Indoor Fireplace\"   0.002927          -0.030409      0.082210      0.019142   \n",
       "Kitchen              0.048693          -0.093547      0.141045      0.154012   \n",
       "\n",
       "                          TV  \"Cable TV\"  \"Indoor Fireplace\"   Kitchen  \n",
       "price               0.248912    0.226981            0.094293  0.095146  \n",
       "bathrooms           0.106105    0.112309            0.105964  0.050576  \n",
       "bedrooms            0.144091    0.146387            0.105594  0.098699  \n",
       "beds                0.155514    0.121252            0.075680  0.097453  \n",
       "latitude            0.086526    0.124433           -0.062357  0.066147  \n",
       "longitude           0.165364    0.138231            0.002927  0.048693  \n",
       "reviews_per_month  -0.062764   -0.107246           -0.030409 -0.093547  \n",
       "accommodates        0.257632    0.218294            0.082210  0.141045  \n",
       "cleaning_fee        0.255508    0.326858            0.019142  0.154012  \n",
       "TV                  1.000000    0.554772            0.086303  0.211503  \n",
       "\"Cable TV\"          0.554772    1.000000            0.071373  0.150100  \n",
       "\"Indoor Fireplace\"  0.086303    0.071373            1.000000  0.028964  \n",
       "Kitchen             0.211503    0.150100            0.028964  1.000000  "
      ]
     },
     "execution_count": 87,
     "metadata": {},
     "output_type": "execute_result"
    }
   ],
   "source": [
    "# We plot a correlation table\n",
    "df_lis_ml_corr.corr()"
   ]
  },
  {
   "cell_type": "code",
   "execution_count": 88,
   "metadata": {},
   "outputs": [
    {
     "data": {
      "text/plain": [
       "<AxesSubplot:>"
      ]
     },
     "execution_count": 88,
     "metadata": {},
     "output_type": "execute_result"
    },
    {
     "data": {
      "image/png": "[encoded data removed]",
      "text/plain": [
       "<Figure size 1296x864 with 2 Axes>"
      ]
     },
     "metadata": {
      "needs_background": "light"
     },
     "output_type": "display_data"
    }
   ],
   "source": [
    "#We create a correlation heatmap centered on 0 wirh a diverging colormap \n",
    "f, ax = plt.subplots(figsize=(18, 12))\n",
    "sns.heatmap(df_lis_ml_corr.corr(), \n",
    "            annot = True,\n",
    "            fmt='.1g',\n",
    "            vmin= -1,\n",
    "            vmax=1,\n",
    "            center=0\n",
    "           #linewidth = 1\n",
    "           )"
   ]
  },
  {
   "cell_type": "markdown",
   "metadata": {},
   "source": [
    "# Question 4: How does the price spread based on location — evenly or unevenly?\n"
   ]
  },
  {
   "cell_type": "markdown",
   "metadata": {},
   "source": [
    "Since we have seen that latitute and londituge coefficients are important in predicting the price, we would like to see now how does the price spread across Boston neighbourhoods. "
   ]
  },
  {
   "cell_type": "code",
   "execution_count": 89,
   "metadata": {},
   "outputs": [
    {
     "data": {
      "text/plain": [
       "0       250.0\n",
       "1        65.0\n",
       "2        65.0\n",
       "3        75.0\n",
       "4        79.0\n",
       "        ...  \n",
       "3580     69.0\n",
       "3581    150.0\n",
       "3582    198.0\n",
       "3583     65.0\n",
       "3584     65.0\n",
       "Name: price, Length: 3585, dtype: float64"
      ]
     },
     "execution_count": 89,
     "metadata": {},
     "output_type": "execute_result"
    }
   ],
   "source": [
    "#For the variable price in the original framework, we delete $, spaces and commas, and convert the values to float\n",
    "df_lis['price'] = df_lis['price'].str.replace('$', '')\n",
    "df_lis['price'] = df_lis['price'].str.replace(' ', '')\n",
    "df_lis['price'] = df_lis['price'].str.replace(',', '')\n",
    "df_lis['price'] = df_lis['price'].astype(float)\n",
    "df_lis.price"
   ]
  },
  {
   "cell_type": "code",
   "execution_count": 90,
   "metadata": {},
   "outputs": [
    {
     "data": {
      "text/plain": [
       "count    3585.000000\n",
       "mean      173.925802\n",
       "std       148.331321\n",
       "min        10.000000\n",
       "25%        85.000000\n",
       "50%       150.000000\n",
       "75%       220.000000\n",
       "max      4000.000000\n",
       "Name: price, dtype: float64"
      ]
     },
     "execution_count": 90,
     "metadata": {},
     "output_type": "execute_result"
    }
   ],
   "source": [
    "# We check price column descriptives \n",
    "df_lis.price.describe()"
   ]
  },
  {
   "cell_type": "code",
   "execution_count": 91,
   "metadata": {},
   "outputs": [
    {
     "data": {
      "text/plain": [
       "0    150.0\n",
       "dtype: float64"
      ]
     },
     "execution_count": 91,
     "metadata": {},
     "output_type": "execute_result"
    }
   ],
   "source": [
    "#We check price colum mode\n",
    "df_lis.price.mode()"
   ]
  },
  {
   "cell_type": "code",
   "execution_count": 92,
   "metadata": {},
   "outputs": [],
   "source": [
    "# The mode for property price is $150, the third quartile is $220 and few other properties are listed for \n",
    "# more than $220. We scale our price dataset and drop all homes with a price over 220, as outliers will throw \n",
    "#off our color coding.\n",
    "\n",
    "df_lis_map_price = df_lis[df_lis['price'] < 220]"
   ]
  },
  {
   "cell_type": "code",
   "execution_count": 93,
   "metadata": {},
   "outputs": [],
   "source": [
    "# We create a barchart that plots and compares neighbourhoods based on price\n",
    "def barchart(df_lis,column,sort_value):\n",
    "    plt.figure(figsize=(20,10))\n",
    "    plt.xticks(rotation=45)\n",
    "    df_lis_map_price = df_lis.sort_values(by = sort_value)\n",
    "    sns.barplot(x='neighbourhood', y=column, data = df_lis)\n",
    "    plt.xlabel(xlabel='Boston Neihbourhoods', fontsize=18)\n",
    "    plt.ylabel(ylabel=column, fontsize=18)"
   ]
  },
  {
   "cell_type": "code",
   "execution_count": 94,
   "metadata": {},
   "outputs": [
    {
     "data": {
      "image/png": "[encoded data removed]",
      "text/plain": [
       "<Figure size 1440x720 with 1 Axes>"
      ]
     },
     "metadata": {
      "needs_background": "light"
     },
     "output_type": "display_data"
    }
   ],
   "source": [
    "\n",
    "barchart(df_lis_map_price,'price','price')"
   ]
  },
  {
   "cell_type": "markdown",
   "metadata": {},
   "source": [
    "By looking at the barplot, we deduce that the most pricey neighbourhoods are as follows:\n",
    " - Government Center\n",
    " - Theater District\n",
    " - Chinatown\n",
    " - Leather District\n",
    " - Back Bay\n",
    " - West End\n",
    " - Beacon Hill"
   ]
  },
  {
   "cell_type": "markdown",
   "metadata": {},
   "source": [
    "4.1 We now map property prices on Boston"
   ]
  },
  {
   "cell_type": "code",
   "execution_count": 95,
   "metadata": {},
   "outputs": [],
   "source": [
    "import matplotlib.pyplot as plt"
   ]
  },
  {
   "cell_type": "code",
   "execution_count": 96,
   "metadata": {},
   "outputs": [
    {
     "data": {
      "image/png": "[encoded data removed]",
      "text/plain": [
       "<Figure size 1296x864 with 2 Axes>"
      ]
     },
     "metadata": {
      "needs_background": "light"
     },
     "output_type": "display_data"
    }
   ],
   "source": [
    "from PIL import Image                                                                                \n",
    "\n",
    "\n",
    "plt.figure(figsize=(18,12))\n",
    "\n",
    "ax = plt.gca()\n",
    "df_lis_map_price.plot(kind='scatter',x='longitude',y='latitude',label='Listing Location', c='price', ax=ax, cmap=plt.get_cmap('jet'), colorbar=True, alpha=0.4, zorder=5)\n",
    "plt.legend()\n",
    "plt.show()\n"
   ]
  },
  {
   "cell_type": "markdown",
   "metadata": {},
   "source": [
    "By looking at the map, we can infer that the most pricey properties are mainly clustered around the follow coordinates: 42.36 and - 71.060. However, there are higly priced listings also clustered around 42.36 and -71.150 for instance. "
   ]
  },
  {
   "cell_type": "code",
   "execution_count": 97,
   "metadata": {},
   "outputs": [],
   "source": [
    "import matplotlib.pyplot as plt\n",
    "import matplotlib.image as mpimg\n",
    "%matplotlib inline\n",
    "import seaborn as sns"
   ]
  },
  {
   "cell_type": "code",
   "execution_count": 98,
   "metadata": {},
   "outputs": [
    {
     "data": {
      "text/plain": [
       "Allston-Brighton      364\n",
       "Jamaica Plain         314\n",
       "South End             298\n",
       "Back Bay              291\n",
       "Fenway/Kenmore        249\n",
       "South Boston          216\n",
       "Dorchester            195\n",
       "Beacon Hill           174\n",
       "North End             125\n",
       "East Boston           117\n",
       "Roxbury               116\n",
       "Mission Hill          103\n",
       "Charlestown            79\n",
       "Chinatown              78\n",
       "West End               68\n",
       "Roslindale             50\n",
       "West Roxbury           35\n",
       "Theater District       33\n",
       "Downtown Crossing      26\n",
       "Hyde Park              25\n",
       "Mattapan               20\n",
       "Somerville             13\n",
       "Financial District     13\n",
       "Brookline               8\n",
       "Leather District        8\n",
       "Downtown                8\n",
       "Cambridge               7\n",
       "Chestnut Hill           4\n",
       "Government Center       3\n",
       "Harvard Square          2\n",
       "Name: neighbourhood, dtype: int64"
      ]
     },
     "execution_count": 98,
     "metadata": {},
     "output_type": "execute_result"
    }
   ],
   "source": [
    "df_lis.neighbourhood.value_counts().head(50)"
   ]
  },
  {
   "cell_type": "code",
   "execution_count": 99,
   "metadata": {},
   "outputs": [
    {
     "data": {
      "text/html": [
       "<div>\n",
       "<style scoped>\n",
       "    .dataframe tbody tr th:only-of-type {\n",
       "        vertical-align: middle;\n",
       "    }\n",
       "\n",
       "    .dataframe tbody tr th {\n",
       "        vertical-align: top;\n",
       "    }\n",
       "\n",
       "    .dataframe thead th {\n",
       "        text-align: right;\n",
       "    }\n",
       "</style>\n",
       "<table border=\"1\" class=\"dataframe\">\n",
       "  <thead>\n",
       "    <tr style=\"text-align: right;\">\n",
       "      <th></th>\n",
       "      <th>longitude</th>\n",
       "      <th>latitude</th>\n",
       "    </tr>\n",
       "  </thead>\n",
       "  <tbody>\n",
       "    <tr>\n",
       "      <th>count</th>\n",
       "      <td>3585.000000</td>\n",
       "      <td>3585.000000</td>\n",
       "    </tr>\n",
       "    <tr>\n",
       "      <th>mean</th>\n",
       "      <td>-71.084818</td>\n",
       "      <td>42.340032</td>\n",
       "    </tr>\n",
       "    <tr>\n",
       "      <th>std</th>\n",
       "      <td>0.031565</td>\n",
       "      <td>0.024403</td>\n",
       "    </tr>\n",
       "    <tr>\n",
       "      <th>min</th>\n",
       "      <td>-71.171789</td>\n",
       "      <td>42.235942</td>\n",
       "    </tr>\n",
       "    <tr>\n",
       "      <th>25%</th>\n",
       "      <td>-71.105083</td>\n",
       "      <td>42.329995</td>\n",
       "    </tr>\n",
       "    <tr>\n",
       "      <th>50%</th>\n",
       "      <td>-71.078429</td>\n",
       "      <td>42.345201</td>\n",
       "    </tr>\n",
       "    <tr>\n",
       "      <th>75%</th>\n",
       "      <td>-71.062155</td>\n",
       "      <td>42.354685</td>\n",
       "    </tr>\n",
       "    <tr>\n",
       "      <th>max</th>\n",
       "      <td>-71.000100</td>\n",
       "      <td>42.389982</td>\n",
       "    </tr>\n",
       "  </tbody>\n",
       "</table>\n",
       "</div>"
      ],
      "text/plain": [
       "         longitude     latitude\n",
       "count  3585.000000  3585.000000\n",
       "mean    -71.084818    42.340032\n",
       "std       0.031565     0.024403\n",
       "min     -71.171789    42.235942\n",
       "25%     -71.105083    42.329995\n",
       "50%     -71.078429    42.345201\n",
       "75%     -71.062155    42.354685\n",
       "max     -71.000100    42.389982"
      ]
     },
     "execution_count": 99,
     "metadata": {},
     "output_type": "execute_result"
    }
   ],
   "source": [
    "##To create a map of the listing location, we will use the ‘longitude’ and ‘latitude’ column.\n",
    "#But first, we need to check the values within the column\n",
    "coord = df_lis.loc[:,['longitude','latitude']]\n",
    "coord.describe()"
   ]
  },
  {
   "cell_type": "code",
   "execution_count": 100,
   "metadata": {},
   "outputs": [
    {
     "data": {
      "text/html": [
       "<div style=\"width:100%;\"><div style=\"position:relative;width:100%;height:0;padding-bottom:60%;\"><span style=\"color:#565656\">Make this Notebook Trusted to load map: File -> Trust Notebook</span><iframe src=\"about:blank\" style=\"position:absolute;width:100%;height:100%;left:0;top:0;border:none !important;\" data-html=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 onload=\"this.contentDocument.open();this.contentDocument.write(atob(this.getAttribute('data-html')));this.contentDocument.close();\" allowfullscreen webkitallowfullscreen mozallowfullscreen></iframe></div></div>"
      ],
      "text/plain": [
       "<folium.folium.Map at 0x128094760>"
      ]
     },
     "metadata": {},
     "output_type": "display_data"
    }
   ],
   "source": [
    "import folium\n",
    "from folium.plugins import HeatMap\n",
    "\n",
    "map_folium = folium.Map([71.0589,42.3601], zoom_start=11)\n",
    "\n",
    "HeatMap(df_lis_map_price[['latitude','longitude']].dropna(),radius=8,gradient={0.2:'blue',0.4:'purple',0.6:'orange',1.0:'red'}).add_to(map_folium)\n",
    "display(map_folium)"
   ]
  },
  {
   "cell_type": "markdown",
   "metadata": {},
   "source": [
    "In order to get a better visualization of how property prices are distributed, I created a Heat Map of Boston. \n",
    "More specifically, I used the Folium package (https://pypi.org/project/folium/) to create a map of the listings locations and their relative prices by using the ‘longitude’ and ‘latitude’ information for each property. As we can see, prices do not necessarily evenly spread, as in decreasing, from Boston downtown outwards.  "
   ]
  },
  {
   "cell_type": "markdown",
   "metadata": {},
   "source": [
    "# Price variation based on proximity from Boston Downtown"
   ]
  },
  {
   "cell_type": "markdown",
   "metadata": {},
   "source": [
    "In question 5, we determined that the hottest cluster in Boston, price-wise, is located around the following coordinates: 42.36, -71.060. Incidentally, these coordinates closely overlap with the ones of Boston downtown. \n",
    "In my previous model, I used latitude and longitude as variables along with and other features. \n",
    "Here, I will only use the coordinates of Boston downtown and create a new variable for each listing: \"distance form Boston Downtown\". \n",
    "\n",
    "After calculating the distance from downtown for each property we train the model. The model has an R2 value of 0.23, meaning that 23% of the variation in the prices is explained alone by the distance from Boston downtown. "
   ]
  },
  {
   "cell_type": "code",
   "execution_count": 101,
   "metadata": {},
   "outputs": [],
   "source": [
    "def distance_from_Boston_Downtown(lat, lon, downtown=[42.3557, -71.0572]):\n",
    "    \n",
    "    R = 6373.0\n",
    "    lat1 = math.radians(downtown[0])\n",
    "    lon1 = math.radians(downtown[1])\n",
    "    lat2 = math.radians(lat)\n",
    "    lon2 = math.radians(lon)\n",
    "    dlon = lon2 - lon1\n",
    "    dlat = lat2 - lat1\n",
    "    a = math.sin(dlat / 2)**2 + math.cos(lat1) * math.cos(lat2) * math.sin(dlon / 2)**2\n",
    "    c = 2 * math.atan2(math.sqrt(a), math.sqrt(1 - a))\n",
    "    distance = R * c\n",
    "    return distance"
   ]
  },
  {
   "cell_type": "code",
   "execution_count": 102,
   "metadata": {},
   "outputs": [],
   "source": [
    "#Below I make a for look to calculate the distance of each listing from downtown.\n",
    "#I create a new variable called 'distance_from_downtown' which has the information of distance of listing from downtown. \n",
    "for i in range(len(df_lis_ml)):\n",
    "    df_lis_ml.loc[ i , 'distance_from_Boston_Downtown'] = distance_from_Boston_Downtown(df_lis_ml.loc[ i ,'latitude'] , df_lis_ml.loc[ i ,'longitude'])"
   ]
  },
  {
   "cell_type": "code",
   "execution_count": 103,
   "metadata": {},
   "outputs": [],
   "source": [
    "#Creating the X (feautures) and y (the variable to be modelled) dataframes\n",
    "y = df_lis_ml['price']\n",
    "X = df_lis_ml.drop(columns='price')"
   ]
  },
  {
   "cell_type": "code",
   "execution_count": 104,
   "metadata": {},
   "outputs": [],
   "source": [
    "#Splitting the new dataframes into train and test dataframes\n",
    "X_train, X_test, y_train, y_test = train_test_split(X, y, test_size = 0.2, random_state=42)"
   ]
  },
  {
   "cell_type": "code",
   "execution_count": 105,
   "metadata": {},
   "outputs": [
    {
     "name": "stdout",
     "output_type": "stream",
     "text": [
      "0.23030328859772675\n"
     ]
    }
   ],
   "source": [
    "#Applying the linear regression, fitting the model, making predictions with the test set and scoring the success of the model\n",
    "lm_model = LinearRegression(normalize=True)\n",
    "lm_model.fit(X_train, y_train)\n",
    "y_test_preds = lm_model.predict(X_test)\n",
    "test_score = r2_score(y_test, y_test_preds)\n",
    "print(test_score)"
   ]
  },
  {
   "cell_type": "markdown",
   "metadata": {},
   "source": [
    "Furthermore, the coefficient of determination indicates that distance from downtown has a negative effect on price, meaning as the distance increases, the price decreases. More specifically, for each kilometer distance, the property price drops around 15 USD. \n"
   ]
  },
  {
   "cell_type": "code",
   "execution_count": 106,
   "metadata": {},
   "outputs": [],
   "source": [
    "#Now we check the coefficients of the new regression model.\n",
    "\n",
    "coef_df = coef_weights(lm_model.coef_, X_train)"
   ]
  },
  {
   "cell_type": "code",
   "execution_count": 107,
   "metadata": {},
   "outputs": [
    {
     "data": {
      "text/html": [
       "<div>\n",
       "<style scoped>\n",
       "    .dataframe tbody tr th:only-of-type {\n",
       "        vertical-align: middle;\n",
       "    }\n",
       "\n",
       "    .dataframe tbody tr th {\n",
       "        vertical-align: top;\n",
       "    }\n",
       "\n",
       "    .dataframe thead th {\n",
       "        text-align: right;\n",
       "    }\n",
       "</style>\n",
       "<table border=\"1\" class=\"dataframe\">\n",
       "  <thead>\n",
       "    <tr style=\"text-align: right;\">\n",
       "      <th></th>\n",
       "      <th>est_int</th>\n",
       "      <th>coefs</th>\n",
       "      <th>abs_coefs</th>\n",
       "    </tr>\n",
       "  </thead>\n",
       "  <tbody>\n",
       "    <tr>\n",
       "      <th>75</th>\n",
       "      <td>distance_from_Boston_Downtown</td>\n",
       "      <td>-15.109444</td>\n",
       "      <td>15.109444</td>\n",
       "    </tr>\n",
       "  </tbody>\n",
       "</table>\n",
       "</div>"
      ],
      "text/plain": [
       "                          est_int      coefs  abs_coefs\n",
       "75  distance_from_Boston_Downtown -15.109444  15.109444"
      ]
     },
     "execution_count": 107,
     "metadata": {},
     "output_type": "execute_result"
    }
   ],
   "source": [
    "#I print the coefficient of 'distance_from_Boston_downtown' variable\n",
    "coef_df[coef_df['est_int'] == 'distance_from_Boston_Downtown']"
   ]
  },
  {
   "cell_type": "markdown",
   "metadata": {},
   "source": [
    "\n",
    "\n"
   ]
  }
 ],
 "metadata": {
  "kernelspec": {
   "display_name": "Python 3",
   "language": "python",
   "name": "python3"
  },
  "language_info": {
   "codemirror_mode": {
    "name": "ipython",
    "version": 3
   },
   "file_extension": ".py",
   "mimetype": "text/x-python",
   "name": "python",
   "nbconvert_exporter": "python",
   "pygments_lexer": "ipython3",
   "version": "3.8.5"
  }
 },
 "nbformat": 4,
 "nbformat_minor": 4
}
